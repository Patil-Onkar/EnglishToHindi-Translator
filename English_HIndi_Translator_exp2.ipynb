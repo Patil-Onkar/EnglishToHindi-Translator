{
  "nbformat": 4,
  "nbformat_minor": 0,
  "metadata": {
    "colab": {
      "name": "Exp5- English-HIndi Translator.ipynb",
      "provenance": [],
      "collapsed_sections": [],
      "toc_visible": true
    },
    "kernelspec": {
      "name": "python3",
      "display_name": "Python 3"
    },
    "accelerator": "GPU"
  },
  "cells": [
    {
      "cell_type": "markdown",
      "metadata": {
        "id": "M9cHNHem4UeB"
      },
      "source": [
        "# Engish-Hindi Translator - Exp 5  \n",
        "\n",
        "-Exp with small sized dataset less than 10"
      ]
    },
    {
      "cell_type": "markdown",
      "metadata": {
        "id": "-gTvNdc1608S"
      },
      "source": [
        "# Preparing Data"
      ]
    },
    {
      "cell_type": "code",
      "metadata": {
        "id": "cMbNSfpl4lJc"
      },
      "source": [
        "import tensorflow as tf\n",
        "import matplotlib.pyplot as plt\n",
        "import time \n",
        "import numpy as np\n",
        "import pandas as pd\n",
        "import random\n",
        "random.seed=22"
      ],
      "execution_count": null,
      "outputs": []
    },
    {
      "cell_type": "code",
      "metadata": {
        "id": "NwHLXfnv2mA5"
      },
      "source": [
        "# Import data\n",
        "hin=open('/content/drive/MyDrive/Projects/English-HIndi Translator /IITB.en-hi.hi','r')\n",
        "hin_inp=hin.read()\n",
        "hin_inp=hin_inp.split('\\n')\n",
        "hin.close()\n",
        "eng=open('/content/drive/MyDrive/Projects/English-HIndi Translator /IITB.en-hi.en','r')\n",
        "eng_inp=eng.read()\n",
        "eng_inp=eng_inp.split('\\n')\n",
        "eng.close()\n",
        "\n",
        "\n",
        "# Create the appropriate data\n",
        "k=list(zip(eng_inp,hin_inp))\n",
        "random.shuffle(k)\n",
        "k=[i for i in k if len(i[0].split())<12 and len(i[1].split())<12 and len(i[0].split())>3 and len(i[1].split())>3]\n",
        "eng=[j for (j,i) in k]\n",
        "hin=[i for (j,i) in k]\n",
        "\n"
      ],
      "execution_count": null,
      "outputs": []
    },
    {
      "cell_type": "code",
      "metadata": {
        "id": "qrmhmbhR5LYl"
      },
      "source": [
        "# Tokenizing english text\n",
        "tokenizer_eng=tf.keras.preprocessing.text.Tokenizer(num_words=5000, oov_token='<oov>')\n",
        "tokenizer_eng.fit_on_texts(eng)\n",
        "#trn_eng1=tokenizer_eng.texts_to_sequences(eng)\n",
        "\n",
        "# Tokenizing hindi text\n",
        "tokenizer_hin=tf.keras.preprocessing.text.Tokenizer(num_words=5000, oov_token='<oov>')\n",
        "tokenizer_hin.fit_on_texts(hin)\n",
        "#trn_hin=tokenizer_hin.texts_to_sequences(hin)\n"
      ],
      "execution_count": null,
      "outputs": []
    },
    {
      "cell_type": "code",
      "metadata": {
        "colab": {
          "base_uri": "https://localhost:8080/"
        },
        "id": "pxtBW3Ze8cQe",
        "outputId": "d788e0b5-d20f-44eb-86dd-ed9c9db4b1bc"
      },
      "source": [
        "# Lets see the OOV distribution\n",
        "hin_set=tokenizer_hin.texts_to_sequences(hin)\n",
        "eng_set=tokenizer_eng.texts_to_sequences(eng)\n",
        "\n",
        "\n",
        "print('Distribution OOV for set 4-11')\n",
        "h=[i.count(1) for i in hin_set]\n",
        "e=[i.count(1) for i in eng_set]\n",
        "print('for hindi text :')\n",
        "plt.hist(h ,bins=50)\n",
        "plt.show()\n",
        "print('for English text :')\n",
        "plt.hist(e ,bins=50)\n",
        "plt.show()\n",
        "\n"
      ],
      "execution_count": null,
      "outputs": [
        {
          "output_type": "stream",
          "text": [
            "Distribution OOV for set 4-11\n",
            "for hindi text :\n"
          ],
          "name": "stdout"
        },
        {
          "output_type": "display_data",
          "data": {
            "image/png": "[encoded data removed]",
            "text/plain": [
              "<Figure size 432x288 with 1 Axes>"
            ]
          },
          "metadata": {
            "tags": [],
            "needs_background": "light"
          }
        },
        {
          "output_type": "stream",
          "text": [
            "for English text :\n"
          ],
          "name": "stdout"
        },
        {
          "output_type": "display_data",
          "data": {
            "image/png": "[encoded data removed]",
            "text/plain": [
              "<Figure size 432x288 with 1 Axes>"
            ]
          },
          "metadata": {
            "tags": [],
            "needs_background": "light"
          }
        }
      ]
    },
    {
      "cell_type": "code",
      "metadata": {
        "colab": {
          "base_uri": "https://localhost:8080/"
        },
        "id": "lRWHL2ARA7UP",
        "outputId": "60f31efe-0457-4b86-a208-6c73e8eab1aa"
      },
      "source": [
        "# Data from set1\n",
        "\n",
        "k1=[i for i in range(len(hin_set)) if hin_set[i].count(1)<1]\n",
        "k2=[i for i in range(len(eng_set)) if eng_set[i].count(1)<1]\n",
        "k=list(set(k1)&set(k2))\n",
        "hin_set1=[hin_set[i] for i in k]\n",
        "eng_set1=[eng_set[i] for i in k]\n",
        "\n",
        "assert len(hin_set1)==len(eng_set1), ' Something went wrong'\n",
        "\n",
        "print('after reduction:',len(hin_set1))\n",
        "\n",
        "\n",
        "# Checking the correctness\n",
        "\n",
        "for n in range(5):\n",
        "  r=random.randint(10,1000)\n",
        "  a=hin_set1[r]\n",
        "  b=eng_set1[r]\n",
        "  print([tokenizer_hin.index_word[i] for i in a],'\\n',[tokenizer_eng.index_word[i] for i in b])\n",
        "\n",
        "  # Distribution after trimming\n",
        "\n",
        "print('Distribution OOV for set 4-11')\n",
        "h=[i.count(1) for i in hin_set1]\n",
        "e=[i.count(1) for i in eng_set1]\n",
        "print('for hindi text :')\n",
        "plt.hist(h ,bins=50)\n",
        "plt.show()\n",
        "print('for English text :')\n",
        "plt.hist(e ,bins=50)\n",
        "plt.show()\n",
        "\n",
        "# Sentence length distribution\n",
        "print('Lets check the sentence length distribution') \n",
        "# Checking the length of sentences\n",
        "h=[len(i) for i in hin_set1 ]\n",
        "e=[len(i) for i in eng_set1 ]\n",
        "\n",
        "plt.hist(h ,bins=20)\n",
        "plt.show()\n",
        "plt.hist(e ,bins=20)\n",
        "plt.show()\n",
        "\n"
      ],
      "execution_count": null,
      "outputs": [
        {
          "output_type": "stream",
          "text": [
            "after reduction: 89917\n",
            "['नामक', 'फ़ाइल', 'मौजूद', 'नहीं', 'है'] \n",
            " ['the', 'file', '“', 's”', 'does', 'not', 'exist', '“', 's”']\n",
            "[\"'\", \"s'\", 'के', 'लिये', 'गोपन', 'प्रमाणपत्र', 'मौजूद', 'नहीं', 'है'] \n",
            " ['encryption', 'certificate', 'for', \"'\", \"s'\", 'does', 'not', 'exist']\n",
            "['हम', 'चलते', 'रहते', 'हैं'] \n",
            " ['let', \"'s\", 'keep', 'going']\n",
            "['विंडो', 'को', 'कार्यस्थान', '10', 'पर', 'ले', 'जाएँ'] \n",
            " ['move', 'window', 'to', 'workspace', '10']\n",
            "['समय', 'का', 'निश्चित', 'विभाजन'] \n",
            " ['a', 'certain', 'division', 'of', 'time']\n",
            "Distribution OOV for set 4-11\n",
            "for hindi text :\n"
          ],
          "name": "stdout"
        },
        {
          "output_type": "display_data",
          "data": {
            "image/png": "[encoded data removed]",
            "text/plain": [
              "<Figure size 432x288 with 1 Axes>"
            ]
          },
          "metadata": {
            "tags": [],
            "needs_background": "light"
          }
        },
        {
          "output_type": "stream",
          "text": [
            "for English text :\n"
          ],
          "name": "stdout"
        },
        {
          "output_type": "display_data",
          "data": {
            "image/png": "[encoded data removed]",
            "text/plain": [
              "<Figure size 432x288 with 1 Axes>"
            ]
          },
          "metadata": {
            "tags": [],
            "needs_background": "light"
          }
        },
        {
          "output_type": "stream",
          "text": [
            "Lets check the sentence length distribution\n"
          ],
          "name": "stdout"
        },
        {
          "output_type": "display_data",
          "data": {
            "image/png": "[encoded data removed]",
            "text/plain": [
              "<Figure size 432x288 with 1 Axes>"
            ]
          },
          "metadata": {
            "tags": [],
            "needs_background": "light"
          }
        },
        {
          "output_type": "display_data",
          "data": {
            "image/png": "[encoded data removed]",
            "text/plain": [
              "<Figure size 432x288 with 1 Axes>"
            ]
          },
          "metadata": {
            "tags": [],
            "needs_background": "light"
          }
        }
      ]
    },
    {
      "cell_type": "code",
      "metadata": {
        "colab": {
          "base_uri": "https://localhost:8080/"
        },
        "id": "ilJYvb-bt-dy",
        "outputId": "98bceb2a-307e-4a69-81c8-3d00b4eae371"
      },
      "source": [
        "\n",
        "\n",
        "trn_hin=hin_set1\n",
        "trn_eng=eng_set1\n",
        "\n",
        "#assert len(trn_hin)==len(trn_eng)==15812+22062+2000 , 'something went wrong'\n",
        "\n",
        "# Chencking the correctness\n",
        "\n",
        "for n in range(10):\n",
        "  r=random.randint(10,39000)\n",
        "  a=trn_hin[r]\n",
        "  b=trn_eng[r]\n",
        "  print([tokenizer_hin.index_word[i] for i in a],'\\n',[tokenizer_eng.index_word[i] for i in b])"
      ],
      "execution_count": null,
      "outputs": [
        {
          "output_type": "stream",
          "text": [
            "['एक', 'सर्वेक्षण', 'के', 'परिणाम'] \n",
            " ['let', 'me', 'share', 'with', 'you', 'the', 'results', 'of', 'a', 'survey']\n",
            "['सॉकेट', 'नहीं', 'बना', 'सकाः', 's'] \n",
            " ['could', 'not', 'remove', 'delegate', 's']\n",
            "['टेबल', 'में', 'पंक्तियों', 'की', 'संख्या'] \n",
            " ['the', 'number', 'of', 'rows', 'in', 'the', 'table']\n",
            "['जितना', 'आप', 'करते', 'हैं', 'उससे', 'कहीं', 'अधिक', 'आप', 'जानते', 'हैं'] \n",
            " ['you', 'know', 'more', 'than', 'you', 'think', 'you', 'do']\n",
            "['मैं', 'कुछ', 'समझ', 'नहीं', 'पा', 'रही', 'हूं।'] \n",
            " ['i', 'am', 'not', 'able', 'to', 'understand', 'a', 'thing']\n",
            "['संदेश', 'के', 'प्राप्तकर्ताओं', 'को', 'दाखिल', 'करें'] \n",
            " ['enter', 'the', 'recipients', 'of', 'the', 'message']\n",
            "['मानक', 'के', 'अनुपालन', 'के', 'लिए', 'किया', 'जाने', 'वाला', 'परीक्षण'] \n",
            " ['the', 'act', 'of', 'testing', 'for', 'compliance', 'with', 'a', 'standard']\n",
            "['उन', 'दोनो', 'बाग़ो', 'में', 'दो', 'प्रवाहित', 'स्रोत', 'है।'] \n",
            " ['in', 'them', 'are', 'two', 'flowing', 'springs']\n",
            "['औद्योगिक', 'विकास', 'तथा', 'कंपनी', 'मामले'] \n",
            " ['industrial', 'development', 'and', 'company', 'affairs']\n",
            "['संपर्क', 'को', 'यहाँ', 'खिसकाएँ', 'm'] \n",
            " ['move', 'contact', 'to']\n"
          ],
          "name": "stdout"
        }
      ]
    },
    {
      "cell_type": "code",
      "metadata": {
        "colab": {
          "base_uri": "https://localhost:8080/"
        },
        "id": "p5zjTyMxxdOF",
        "outputId": "b629a92e-7aae-4c1e-9f70-8760681947da"
      },
      "source": [
        "# Add start and End token \n",
        "\n",
        "trn_hin=[[5000]+i+[5001] for i in trn_hin]\n",
        "trn_eng=[[5000]+i+[5001] for i in trn_eng]\n",
        "\n",
        "# Add pad and start word.\n",
        "\n",
        "# In english vocab add <pad> and <start>,<end> token \n",
        "tokenizer_eng.word_index['<pad>'] = 0\n",
        "tokenizer_eng.word_index['<start>'] = 5000\n",
        "tokenizer_eng.word_index['<end>'] = 5001\n",
        "\n",
        "\n",
        "\n",
        "# In hindi vocab add <pad> and <start>,<end> token \n",
        "tokenizer_hin.word_index['<pad>']=0\n",
        "tokenizer_hin.word_index['<start>'] = 5000\n",
        "tokenizer_hin.word_index['<end>'] = 5001\n",
        "\n",
        "\n",
        "print('Now the size of the vocab is now, for hindi {} and eng {}'.format(len(tokenizer_hin.word_index),len(tokenizer_eng.word_index)))\n",
        "\n",
        "# Create reverse Dictionary \n",
        "\n",
        "hn_itow={i:j for j,i in tokenizer_hin.word_index.items()}\n",
        "en_itow={i:j for j,i in tokenizer_eng.word_index.items()}"
      ],
      "execution_count": null,
      "outputs": [
        {
          "output_type": "stream",
          "text": [
            "Now the size of the vocab is now, for hindi 100147 and eng 69225\n"
          ],
          "name": "stdout"
        }
      ]
    },
    {
      "cell_type": "code",
      "metadata": {
        "colab": {
          "base_uri": "https://localhost:8080/"
        },
        "id": "HL_rudF-Bazx",
        "outputId": "982b37da-d729-44b6-a012-70a6dfaf1033"
      },
      "source": [
        "# We can pad the sequence upto its max length\n",
        "\n",
        "hn=tf.keras.preprocessing.sequence.pad_sequences(\n",
        "    trn_hin, maxlen=13, dtype='int32', padding='post', truncating='post',\n",
        "    value=0.0)\n",
        "\n",
        "en=tf.keras.preprocessing.sequence.pad_sequences(\n",
        "    trn_eng, maxlen=13, dtype='int32', padding='post', truncating='post',\n",
        "    value=0.0)\n",
        "\n",
        "\n",
        "# Lets check the vocab length\n",
        "\n",
        "print('Length of Hindi vocab {} and english vocab {}'.format(len(tokenizer_hin.word_index),len(tokenizer_eng.word_index)))"
      ],
      "execution_count": null,
      "outputs": [
        {
          "output_type": "stream",
          "text": [
            "Length of Hindi vocab 100147 and english vocab 69225\n"
          ],
          "name": "stdout"
        }
      ]
    },
    {
      "cell_type": "code",
      "metadata": {
        "colab": {
          "base_uri": "https://localhost:8080/"
        },
        "id": "36YuG1B0hofM",
        "outputId": "6ea31680-8f99-4916-aa2c-ed08c71e4168"
      },
      "source": [
        "# Lets again check the sentence length distribution\n",
        "# Checking the length of sentences\n",
        "h=[np.nonzero(i>0)[0].shape[0] for i in hn ]\n",
        "e=[np.nonzero(i>0)[0].shape[0] for i in en ]\n",
        "print('mean length for Hindi sentence ={}, for english={}'.format(np.mean(h),np.mean(e)))\n",
        "print('STD for Hindi sentence length ={}, for english={}'.format(np.std(h),np.std(e)))\n",
        "\n",
        "\n",
        "plt.hist(h ,bins=50)\n",
        "plt.show()\n",
        "plt.hist(e ,bins=50)\n",
        "plt.show()\n",
        "\n",
        "# max len \\\n",
        "print('\\n\\nMax len for hindi ={} , for english {}'.format(max(h),max(e)))\n",
        "print('\\n Length of dataset=',len(hn))"
      ],
      "execution_count": null,
      "outputs": [
        {
          "output_type": "stream",
          "text": [
            "mean length for Hindi sentence =8.765739515330806, for english=8.318126716861105\n",
            "STD for Hindi sentence length =2.100094177734848, for english=2.0369404146174244\n"
          ],
          "name": "stdout"
        },
        {
          "output_type": "display_data",
          "data": {
            "image/png": "[encoded data removed]",
            "text/plain": [
              "<Figure size 432x288 with 1 Axes>"
            ]
          },
          "metadata": {
            "tags": [],
            "needs_background": "light"
          }
        },
        {
          "output_type": "display_data",
          "data": {
            "image/png": "[encoded data removed]",
            "text/plain": [
              "<Figure size 432x288 with 1 Axes>"
            ]
          },
          "metadata": {
            "tags": [],
            "needs_background": "light"
          }
        },
        {
          "output_type": "stream",
          "text": [
            "\n",
            "\n",
            "Max len for hindi =13 , for english 13\n",
            "\n",
            " Length of dataset= 89917\n"
          ],
          "name": "stdout"
        }
      ]
    },
    {
      "cell_type": "code",
      "metadata": {
        "colab": {
          "base_uri": "https://localhost:8080/"
        },
        "id": "19nN5qYIJEXE",
        "outputId": "cfbb10ea-820d-43d6-add1-16f04f4a7010"
      },
      "source": [
        "hn.shape"
      ],
      "execution_count": null,
      "outputs": [
        {
          "output_type": "execute_result",
          "data": {
            "text/plain": [
              "(89917, 13)"
            ]
          },
          "metadata": {
            "tags": []
          },
          "execution_count": 10
        }
      ]
    },
    {
      "cell_type": "code",
      "metadata": {
        "colab": {
          "base_uri": "https://localhost:8080/"
        },
        "id": "SJjdan2VFNz4",
        "outputId": "f39322e8-8865-49cc-ce70-a9b24c16b38b"
      },
      "source": [
        "en.shape"
      ],
      "execution_count": null,
      "outputs": [
        {
          "output_type": "execute_result",
          "data": {
            "text/plain": [
              "(89917, 13)"
            ]
          },
          "metadata": {
            "tags": []
          },
          "execution_count": 11
        }
      ]
    },
    {
      "cell_type": "markdown",
      "metadata": {
        "id": "dp_HCMucJyHR"
      },
      "source": [
        "#Attention mechanism for word alignmnt \n",
        "\n",
        "Implementing the paper's archetacture  \n",
        "\n",
        "Paper- NEURAL MACHINE TRANSLATION\n",
        "BY JOINTLY LEARNING TO ALIGN AND TRANSLATE\n",
        "by - Dzmitry Bahdanau\n",
        "\n",
        "\n",
        "  1. The Encoder -Decoder architecture is as follows-\n",
        "\n",
        "  Encoder = Input --> Embedding with 24 vector size ---> Bi-Directional lstm with 22 units.\n",
        "    \n",
        "  Decoder = Output --> Bidirectional lstm 25 units--> softmax Dense\n",
        "    "
      ]
    },
    {
      "cell_type": "code",
      "metadata": {
        "colab": {
          "base_uri": "https://localhost:8080/",
          "height": 1000
        },
        "id": "Rhv55XHBAL6e",
        "outputId": "6c4dc0e2-d347-4efe-c3aa-9c0f0fa2c82d"
      },
      "source": [
        "! pip install tf-nightly --upgrade"
      ],
      "execution_count": null,
      "outputs": [
        {
          "output_type": "stream",
          "text": [
            "Collecting tf-nightly\n",
            "\u001b[?25l  Downloading https://files.pythonhosted.org/packages/f8/e2/a63667b5ad66baae3bc6979f75d82f258871868f03b1eba937a6e206b83e/tf_nightly-2.5.0.dev20210114-cp36-cp36m-manylinux2010_x86_64.whl (400.1MB)\n",
            "\u001b[K     |████████████████████████████████| 400.1MB 40kB/s \n",
            "\u001b[?25hRequirement already satisfied, skipping upgrade: absl-py~=0.10 in /usr/local/lib/python3.6/dist-packages (from tf-nightly) (0.10.0)\n",
            "Requirement already satisfied, skipping upgrade: google-pasta~=0.2 in /usr/local/lib/python3.6/dist-packages (from tf-nightly) (0.2.0)\n",
            "Requirement already satisfied, skipping upgrade: keras-preprocessing~=1.1.2 in /usr/local/lib/python3.6/dist-packages (from tf-nightly) (1.1.2)\n",
            "Requirement already satisfied, skipping upgrade: six~=1.15.0 in /usr/local/lib/python3.6/dist-packages (from tf-nightly) (1.15.0)\n",
            "Collecting tb-nightly~=2.5.0.a\n",
            "\u001b[?25l  Downloading https://files.pythonhosted.org/packages/3c/e6/d5fe12df8a64343b2c6ed1694c35149f392e38c1b9eb7e2ab56b1f9c4413/tb_nightly-2.5.0a20210115-py3-none-any.whl (12.2MB)\n",
            "\u001b[K     |████████████████████████████████| 12.2MB 51.4MB/s \n",
            "\u001b[?25hRequirement already satisfied, skipping upgrade: typing-extensions~=3.7.4 in /usr/local/lib/python3.6/dist-packages (from tf-nightly) (3.7.4.3)\n",
            "Collecting gast==0.4.0\n",
            "  Downloading https://files.pythonhosted.org/packages/b6/48/583c032b79ae5b3daa02225a675aeb673e58d2cb698e78510feceb11958c/gast-0.4.0-py3-none-any.whl\n",
            "Requirement already satisfied, skipping upgrade: protobuf>=3.9.2 in /usr/local/lib/python3.6/dist-packages (from tf-nightly) (3.12.4)\n",
            "Requirement already satisfied, skipping upgrade: astunparse~=1.6.3 in /usr/local/lib/python3.6/dist-packages (from tf-nightly) (1.6.3)\n",
            "Requirement already satisfied, skipping upgrade: numpy~=1.19.2 in /usr/local/lib/python3.6/dist-packages (from tf-nightly) (1.19.5)\n",
            "Requirement already satisfied, skipping upgrade: termcolor~=1.1.0 in /usr/local/lib/python3.6/dist-packages (from tf-nightly) (1.1.0)\n",
            "Requirement already satisfied, skipping upgrade: wrapt~=1.12.1 in /usr/local/lib/python3.6/dist-packages (from tf-nightly) (1.12.1)\n",
            "Collecting tf-estimator-nightly~=2.5.0.dev\n",
            "\u001b[?25l  Downloading https://files.pythonhosted.org/packages/b4/4d/c066f9da78faf1b22dc13a01d13c97124146000a192bfd408a5415a647c8/tf_estimator_nightly-2.5.0.dev2021011501-py2.py3-none-any.whl (462kB)\n",
            "\u001b[K     |████████████████████████████████| 471kB 32.5MB/s \n",
            "\u001b[?25hCollecting grpcio~=1.34.0\n",
            "\u001b[?25l  Downloading https://files.pythonhosted.org/packages/ab/f5/3d3bcb82beae990021cbf6877456a1aab650e68c902194566edd6a73e37c/grpcio-1.34.1-cp36-cp36m-manylinux2014_x86_64.whl (4.0MB)\n",
            "\u001b[K     |████████████████████████████████| 4.0MB 45.7MB/s \n",
            "\u001b[?25hRequirement already satisfied, skipping upgrade: wheel~=0.35 in /usr/local/lib/python3.6/dist-packages (from tf-nightly) (0.36.2)\n",
            "Requirement already satisfied, skipping upgrade: flatbuffers~=1.12.0 in /usr/local/lib/python3.6/dist-packages (from tf-nightly) (1.12)\n",
            "Requirement already satisfied, skipping upgrade: opt-einsum~=3.3.0 in /usr/local/lib/python3.6/dist-packages (from tf-nightly) (3.3.0)\n",
            "Collecting h5py~=3.1.0\n",
            "\u001b[?25l  Downloading https://files.pythonhosted.org/packages/70/7a/e53e500335afb6b1aade11227cdf107fca54106a1dca5c9d13242a043f3b/h5py-3.1.0-cp36-cp36m-manylinux1_x86_64.whl (4.0MB)\n",
            "\u001b[K     |████████████████████████████████| 4.0MB 48.4MB/s \n",
            "\u001b[?25hRequirement already satisfied, skipping upgrade: setuptools>=41.0.0 in /usr/local/lib/python3.6/dist-packages (from tb-nightly~=2.5.0.a->tf-nightly) (51.1.1)\n",
            "Requirement already satisfied, skipping upgrade: google-auth<2,>=1.6.3 in /usr/local/lib/python3.6/dist-packages (from tb-nightly~=2.5.0.a->tf-nightly) (1.17.2)\n",
            "Requirement already satisfied, skipping upgrade: tensorboard-plugin-wit>=1.6.0 in /usr/local/lib/python3.6/dist-packages (from tb-nightly~=2.5.0.a->tf-nightly) (1.7.0)\n",
            "Requirement already satisfied, skipping upgrade: google-auth-oauthlib<0.5,>=0.4.1 in /usr/local/lib/python3.6/dist-packages (from tb-nightly~=2.5.0.a->tf-nightly) (0.4.2)\n",
            "Requirement already satisfied, skipping upgrade: werkzeug>=0.11.15 in /usr/local/lib/python3.6/dist-packages (from tb-nightly~=2.5.0.a->tf-nightly) (1.0.1)\n",
            "Requirement already satisfied, skipping upgrade: requests<3,>=2.21.0 in /usr/local/lib/python3.6/dist-packages (from tb-nightly~=2.5.0.a->tf-nightly) (2.23.0)\n",
            "Requirement already satisfied, skipping upgrade: markdown>=2.6.8 in /usr/local/lib/python3.6/dist-packages (from tb-nightly~=2.5.0.a->tf-nightly) (3.3.3)\n",
            "Collecting cached-property; python_version < \"3.8\"\n",
            "  Downloading https://files.pythonhosted.org/packages/48/19/f2090f7dad41e225c7f2326e4cfe6fff49e57dedb5b53636c9551f86b069/cached_property-1.5.2-py2.py3-none-any.whl\n",
            "Requirement already satisfied, skipping upgrade: rsa<5,>=3.1.4; python_version >= \"3\" in /usr/local/lib/python3.6/dist-packages (from google-auth<2,>=1.6.3->tb-nightly~=2.5.0.a->tf-nightly) (4.6)\n",
            "Requirement already satisfied, skipping upgrade: cachetools<5.0,>=2.0.0 in /usr/local/lib/python3.6/dist-packages (from google-auth<2,>=1.6.3->tb-nightly~=2.5.0.a->tf-nightly) (4.2.0)\n",
            "Requirement already satisfied, skipping upgrade: pyasn1-modules>=0.2.1 in /usr/local/lib/python3.6/dist-packages (from google-auth<2,>=1.6.3->tb-nightly~=2.5.0.a->tf-nightly) (0.2.8)\n",
            "Requirement already satisfied, skipping upgrade: requests-oauthlib>=0.7.0 in /usr/local/lib/python3.6/dist-packages (from google-auth-oauthlib<0.5,>=0.4.1->tb-nightly~=2.5.0.a->tf-nightly) (1.3.0)\n",
            "Requirement already satisfied, skipping upgrade: urllib3!=1.25.0,!=1.25.1,<1.26,>=1.21.1 in /usr/local/lib/python3.6/dist-packages (from requests<3,>=2.21.0->tb-nightly~=2.5.0.a->tf-nightly) (1.24.3)\n",
            "Requirement already satisfied, skipping upgrade: certifi>=2017.4.17 in /usr/local/lib/python3.6/dist-packages (from requests<3,>=2.21.0->tb-nightly~=2.5.0.a->tf-nightly) (2020.12.5)\n",
            "Requirement already satisfied, skipping upgrade: idna<3,>=2.5 in /usr/local/lib/python3.6/dist-packages (from requests<3,>=2.21.0->tb-nightly~=2.5.0.a->tf-nightly) (2.10)\n",
            "Requirement already satisfied, skipping upgrade: chardet<4,>=3.0.2 in /usr/local/lib/python3.6/dist-packages (from requests<3,>=2.21.0->tb-nightly~=2.5.0.a->tf-nightly) (3.0.4)\n",
            "Requirement already satisfied, skipping upgrade: importlib-metadata; python_version < \"3.8\" in /usr/local/lib/python3.6/dist-packages (from markdown>=2.6.8->tb-nightly~=2.5.0.a->tf-nightly) (3.3.0)\n",
            "Requirement already satisfied, skipping upgrade: pyasn1>=0.1.3 in /usr/local/lib/python3.6/dist-packages (from rsa<5,>=3.1.4; python_version >= \"3\"->google-auth<2,>=1.6.3->tb-nightly~=2.5.0.a->tf-nightly) (0.4.8)\n",
            "Requirement already satisfied, skipping upgrade: oauthlib>=3.0.0 in /usr/local/lib/python3.6/dist-packages (from requests-oauthlib>=0.7.0->google-auth-oauthlib<0.5,>=0.4.1->tb-nightly~=2.5.0.a->tf-nightly) (3.1.0)\n",
            "Requirement already satisfied, skipping upgrade: zipp>=0.5 in /usr/local/lib/python3.6/dist-packages (from importlib-metadata; python_version < \"3.8\"->markdown>=2.6.8->tb-nightly~=2.5.0.a->tf-nightly) (3.4.0)\n",
            "\u001b[31mERROR: tensorflow 2.4.0 has requirement gast==0.3.3, but you'll have gast 0.4.0 which is incompatible.\u001b[0m\n",
            "\u001b[31mERROR: tensorflow 2.4.0 has requirement grpcio~=1.32.0, but you'll have grpcio 1.34.1 which is incompatible.\u001b[0m\n",
            "\u001b[31mERROR: tensorflow 2.4.0 has requirement h5py~=2.10.0, but you'll have h5py 3.1.0 which is incompatible.\u001b[0m\n",
            "Installing collected packages: grpcio, tb-nightly, gast, tf-estimator-nightly, cached-property, h5py, tf-nightly\n",
            "  Found existing installation: grpcio 1.32.0\n",
            "    Uninstalling grpcio-1.32.0:\n",
            "      Successfully uninstalled grpcio-1.32.0\n",
            "  Found existing installation: gast 0.3.3\n",
            "    Uninstalling gast-0.3.3:\n",
            "      Successfully uninstalled gast-0.3.3\n",
            "  Found existing installation: h5py 2.10.0\n",
            "    Uninstalling h5py-2.10.0:\n",
            "      Successfully uninstalled h5py-2.10.0\n",
            "Successfully installed cached-property-1.5.2 gast-0.4.0 grpcio-1.34.1 h5py-3.1.0 tb-nightly-2.5.0a20210115 tf-estimator-nightly-2.5.0.dev2021011501 tf-nightly-2.5.0.dev20210114\n"
          ],
          "name": "stdout"
        },
        {
          "output_type": "display_data",
          "data": {
            "application/vnd.colab-display-data+json": {
              "pip_warning": {
                "packages": [
                  "gast",
                  "h5py",
                  "tensorboard",
                  "tensorflow"
                ]
              }
            }
          },
          "metadata": {
            "tags": []
          }
        }
      ]
    },
    {
      "cell_type": "code",
      "metadata": {
        "id": "zQBp0TQbJ6iq"
      },
      "source": [
        "# Encoder\n",
        "\n",
        "# Building encoder with bidirectional lstm\n",
        "tf.keras.backend.clear_session()\n",
        "\n",
        "class Encoder(tf.keras.Model):\n",
        "  def __init__(self):\n",
        "    super(Encoder,self).__init__()\n",
        "    self.em=tf.keras.layers.Embedding(5002,512)\n",
        "    #self.drop=tf.keras.layers.Dropout(0.2)\n",
        "    #self.drop1=tf.keras.layers.Dropout(0.2)\n",
        "    self.enc=tf.keras.layers.Bidirectional(tf.keras.layers.GRU(128,activation='relu',return_state=True,return_sequences=True))\n",
        "    #self.enc=tf.keras.layers.LSTM(256,activation='relu',return_state=True,return_sequences=True)\n",
        "    #self.enc1=tf.keras.layers.Bidirectional(tf.keras.layers.GRU(15,activation='relu',return_state=True))\n",
        "\n",
        "\n",
        "  def call(self,inputs):\n",
        "    emb=self.em(inputs)\n",
        "    #d1=self.drop(emb)\n",
        "    en1=self.enc(emb)\n",
        "    #d2=self.drop1(en1[0])\n",
        "    #en2=self.enc1(d2)\n",
        "    #out=tf.reshape(en1[0],(en1[0].shape[0],1,30))\n",
        "    hid=tf.concat([en1[1],en1[2]],axis=1)\n",
        "    return en1[0],hid\n",
        "    #return en1[0],en1[1]\n",
        "\n",
        "enc=Encoder()"
      ],
      "execution_count": null,
      "outputs": []
    },
    {
      "cell_type": "code",
      "metadata": {
        "colab": {
          "base_uri": "https://localhost:8080/"
        },
        "id": "WldwhjWmK4V7",
        "outputId": "dc624150-0c2e-452e-a619-cf8a6ea2d888"
      },
      "source": [
        "# Testing the input\n",
        "# Required output shape==> (batch,maxlen,hidden_state)  ==(2,22,44)\n",
        "inp=en[:2]\n",
        "#o=enc(inp)\n",
        "out,hid=enc(inp)\n",
        "assert out.shape==(2,13,256), 'Somthing went wrong with out'\n",
        "assert hid.shape==(2,256), 'Somthing went wrong with hidden output'\n",
        "print('looks fine')"
      ],
      "execution_count": null,
      "outputs": [
        {
          "output_type": "stream",
          "text": [
            "looks fine\n"
          ],
          "name": "stdout"
        }
      ]
    },
    {
      "cell_type": "code",
      "metadata": {
        "id": "pOKUcrNMLKnY"
      },
      "source": [
        "class BahdanauAttention(tf.keras.Model):\n",
        "  def __init__(self,units):\n",
        "    super(BahdanauAttention,self).__init__()\n",
        "    #self.units=units\n",
        "    self.w1=tf.keras.layers.Dense(units)\n",
        "    self.w2=tf.keras.layers.Dense(units)\n",
        "    self.v=tf.keras.layers.Dense(1)\n",
        "    self.activation = tf.keras.layers.Activation('tanh')\n",
        "    #self.activation1 = tf.keras.layers.Activation('softmax')\n",
        "    #self.soft=tf.keras.activations.softmax(axis=1)\n",
        "\n",
        "  def call (self,inputs):\n",
        "    dec_hid,enc_out=inputs\n",
        "    x=self.w1(dec_hid)+self.w2(enc_out)\n",
        "    x=self.activation(x)\n",
        "    x=self.v(x)\n",
        "    wghts=tf.keras.activations.softmax(x,axis=1)\n",
        "    context_vector=wghts*enc_out\n",
        "    context_vector=tf.reduce_sum(context_vector,axis=1)\n",
        "    return wghts,context_vector\n",
        "  \n",
        "#  def get_config(self):\n",
        "#    return {\"units\": self.units}\n",
        "\n",
        "\n",
        "#units=30\n",
        "at=BahdanauAttention(256)"
      ],
      "execution_count": null,
      "outputs": []
    },
    {
      "cell_type": "code",
      "metadata": {
        "colab": {
          "base_uri": "https://localhost:8080/"
        },
        "id": "qjSL7V7JLOUA",
        "outputId": "3a8828d3-a54e-40e4-903a-54fa24b85e9e"
      },
      "source": [
        "#Testing bahdanau's attention word alignment\n",
        "\n",
        "init=tf.random_normal_initializer()\n",
        "dec_hid=tf.Variable(initial_value=init(shape=(2,1,256),dtype=tf.float32))\n",
        "enc_out=out\n",
        "\n",
        "# Expected weights output shape ==> (batch,maxlen,1) ==> (2,15,1)\n",
        "# Expected context vector output shape ==> (batch,hidden) ==> (2,15)\n",
        "inputs=[dec_hid,enc_out]\n",
        "weights,context_vector=at(inputs)\n",
        "assert weights.shape==(2,13,1), 'Somthing went wrong with weights'\n",
        "assert context_vector.shape==(2,256), 'Somthing went wrong with context_vector'\n",
        "print('looks fine')\n",
        "\n",
        "# Printing the weights\n",
        "weights"
      ],
      "execution_count": null,
      "outputs": [
        {
          "output_type": "stream",
          "text": [
            "looks fine\n"
          ],
          "name": "stdout"
        },
        {
          "output_type": "execute_result",
          "data": {
            "text/plain": [
              "<tf.Tensor: shape=(2, 13, 1), dtype=float32, numpy=\n",
              "array([[[0.07708353],\n",
              "        [0.07626661],\n",
              "        [0.07601092],\n",
              "        [0.07587422],\n",
              "        [0.07701611],\n",
              "        [0.07826216],\n",
              "        [0.07804369],\n",
              "        [0.07733694],\n",
              "        [0.07694626],\n",
              "        [0.07677229],\n",
              "        [0.07671549],\n",
              "        [0.07675375],\n",
              "        [0.07691802]],\n",
              "\n",
              "       [[0.07760727],\n",
              "        [0.07775857],\n",
              "        [0.07597933],\n",
              "        [0.07663165],\n",
              "        [0.07707295],\n",
              "        [0.07704426],\n",
              "        [0.07754842],\n",
              "        [0.07707342],\n",
              "        [0.07676278],\n",
              "        [0.0766117 ],\n",
              "        [0.07655753],\n",
              "        [0.07659468],\n",
              "        [0.07675742]]], dtype=float32)>"
            ]
          },
          "metadata": {
            "tags": []
          },
          "execution_count": 15
        }
      ]
    },
    {
      "cell_type": "code",
      "metadata": {
        "id": "wmJ6b3Ayc95i"
      },
      "source": [
        ""
      ],
      "execution_count": null,
      "outputs": []
    },
    {
      "cell_type": "code",
      "metadata": {
        "id": "dYjlwBS3MczS"
      },
      "source": [
        "class Decoder(tf.keras.Model):\n",
        "  def __init__(self):\n",
        "    super(Decoder,self).__init__()\n",
        "    self.em=tf.keras.layers.Embedding(5002,512)\n",
        "    #self.drop=tf.keras.layers.Dropout(0.2)\n",
        "    #self.drop1=tf.keras.layers.Dropout(0.2)\n",
        "    self.dec=tf.keras.layers.GRU(256,activation='relu',return_state=True,return_sequences=True)\n",
        "    #self.dec1=tf.keras.layers.GRU(21,activation='relu',return_state=True,return_sequences=True)\n",
        "    self.dense=tf.keras.layers.Dense(5002)\n",
        "    self.attention=BahdanauAttention(256)\n",
        "\n",
        "  def call(self,inputs):\n",
        "    enc_out,dec_hidden,inp=inputs\n",
        "    x=self.em(inp)\n",
        "    weights,context_vector=self.attention([dec_hidden,enc_out])\n",
        "    context_vector=tf.expand_dims(context_vector, 1)\n",
        "    #context_vector=tf.reshape(context_vector,shape=(context_vector.shape[0],1,context_vector.shape[-1]))\n",
        "    concat=tf.keras.layers.concatenate([x,context_vector,dec_hidden],axis=2)\n",
        "    #drop=self.drop(concat)\n",
        "    dec_out,dec_hidden=self.dec(concat)\n",
        "    #drop1=self.drop1(dec_out)\n",
        "    #dec_hidden2=tf.reshape(dec_hidden2,shape=(dec_hidden2.shape[0],1,dec_hidden2.shape[-1]))\n",
        "    #concat1=tf.keras.layers.concatenate([dec_out,dec_hidden2],axis=2)\n",
        "    #drop1=self.drop1(concat1)\n",
        "    #dec_out2,dec_hidden2=self.dec1(drop1)\n",
        "    pred=self.dense(dec_out)\n",
        "    return dec_hidden,pred,weights\n",
        "  \n",
        "  \n",
        "dec=Decoder()"
      ],
      "execution_count": null,
      "outputs": []
    },
    {
      "cell_type": "code",
      "metadata": {
        "colab": {
          "base_uri": "https://localhost:8080/"
        },
        "id": "hY2_-Pf8NJhC",
        "outputId": "249b06ff-405b-4bc6-995f-103ecc9f3af2"
      },
      "source": [
        "#Testing decoder\n",
        "\n",
        "# Output shapes should be : dec_hidden=(batch,1,hidden)==>(2,1,21),weights=(batch,maxlen,1)==>(2,15,1)\n",
        "#                           pred=(batch,1,vocab)==>(2,1,347) \n",
        "enc_out=out\n",
        "init=tf.random_normal_initializer()\n",
        "dec_hid=tf.Variable(initial_value=init(shape=(2,1,256),dtype=tf.float32))\n",
        "inp=np.array([5000,5000]).reshape((2,1))\n",
        "input=[enc_out,dec_hid,inp]\n",
        "dec_hidden,pred,weights=dec(input)\n",
        "\n",
        "assert weights.shape==(2,13,1), 'Somthing went wrong with weights'\n",
        "assert dec_hidden.shape==(2,256), 'Somthing went wrong with decoder hidden'\n",
        "assert pred.shape==(2,1,5002), 'Somthing went wrong with prediction vector'\n",
        "\n",
        "print('looks good')"
      ],
      "execution_count": null,
      "outputs": [
        {
          "output_type": "stream",
          "text": [
            "looks good\n"
          ],
          "name": "stdout"
        }
      ]
    },
    {
      "cell_type": "code",
      "metadata": {
        "id": "QawCjCkLJ2jk"
      },
      "source": [
        ""
      ],
      "execution_count": null,
      "outputs": []
    },
    {
      "cell_type": "code",
      "metadata": {
        "id": "xpDQmEbWNfAv"
      },
      "source": [
        "# Creating required APIs\n",
        "ls_ = tf.keras.losses.SparseCategoricalCrossentropy(from_logits=True)\n",
        "optimizer = tf.keras.optimizers.Adam()\n",
        "acc=tf.keras.metrics.Accuracy()"
      ],
      "execution_count": null,
      "outputs": []
    },
    {
      "cell_type": "code",
      "metadata": {
        "id": "3r_LqZuyNkxp"
      },
      "source": [
        "# with autograph\n",
        "\n",
        "class Test_step():\n",
        "  def __init__(self,batch):\n",
        "    self.batch=batch\n",
        "    self.pred_out=[]\n",
        "    self.loss=0\n",
        "\n",
        "  @tf.function\n",
        "  def  __call__(self,inp,out):\n",
        "    with tf.GradientTape() as tape:\n",
        "      enc_out,dec_hid=enc(inp)\n",
        "      dec_hid=tf.reshape(dec_hid,shape=(self.batch,1,dec_hid.shape[-1]))\n",
        "      for i in range(1,out.shape[1]):\n",
        "        dec_inp=tf.reshape(out[:,i-1],shape=(self.batch,1))\n",
        "        dec_hid,pred,weights=dec([enc_out,dec_hid,dec_inp])\n",
        "        dec_hid=tf.reshape(dec_hid,shape=(self.batch,1,dec_hid.shape[-1]))\n",
        "        self.pred_out.append(pred)\n",
        "\n",
        "      ypred=tf.concat(self.pred_out,axis=1)\n",
        "\n",
        "      ls=ls_(out[:,1:],ypred)\n",
        "\n",
        "    variables = enc.trainable_variables + dec.trainable_variables\n",
        "    gradients = tape.gradient(ls, variables)\n",
        "    optimizer.apply_gradients(zip(gradients, variables))\n",
        "    #self.dec_hidden=dec_hid\n",
        "    return ls,ypred\n",
        "\n",
        "\n",
        "#step=Test_step(30)"
      ],
      "execution_count": null,
      "outputs": []
    },
    {
      "cell_type": "code",
      "metadata": {
        "colab": {
          "base_uri": "https://localhost:8080/"
        },
        "id": "GgIugf-ANrgJ",
        "outputId": "15455a9b-6405-4d5a-9718-18fd6457a6b5"
      },
      "source": [
        "# checking if training is actually happening or not\n",
        "'''\n",
        "batch=30\n",
        "initializer=tf.random_normal_initializer(seed=33)\n",
        "dec_hid=tf.Variable(initial_value=initializer(shape=(batch,1,21),dtype=tf.float32))\n",
        "'''\n",
        "\n",
        "# Test 1\n",
        "step=Test_step(30)\n",
        "inp=en[:30]\n",
        "out=hn[:30]\n",
        "\n",
        "ls,ypred=step(inp,out)\n",
        "print(ls)"
      ],
      "execution_count": null,
      "outputs": [
        {
          "output_type": "stream",
          "text": [
            "tf.Tensor(8.516514, shape=(), dtype=float32)\n"
          ],
          "name": "stdout"
        }
      ]
    },
    {
      "cell_type": "code",
      "metadata": {
        "colab": {
          "base_uri": "https://localhost:8080/"
        },
        "id": "iqdtPv9ON4Fy",
        "outputId": "1a19879d-e560-4ee3-9c4c-10b4cad6ee34"
      },
      "source": [
        "# Test 2\n",
        "inp=en[30:60]\n",
        "out=hn[30:60]\n",
        "\n",
        "ls,ypred=step(inp,out)\n",
        "print(ls)"
      ],
      "execution_count": null,
      "outputs": [
        {
          "output_type": "stream",
          "text": [
            "tf.Tensor(8.506647, shape=(), dtype=float32)\n"
          ],
          "name": "stdout"
        }
      ]
    },
    {
      "cell_type": "code",
      "metadata": {
        "colab": {
          "base_uri": "https://localhost:8080/"
        },
        "id": "pOxWlswKQAdd",
        "outputId": "6bb5b83f-dda7-4dc2-d10a-9ba788c34686"
      },
      "source": [
        "# Test 3\n",
        "inp=en[60:90]\n",
        "out=hn[60:90]\n",
        "\n",
        "ls,ypred=step(inp,out)\n",
        "print(ls)"
      ],
      "execution_count": null,
      "outputs": [
        {
          "output_type": "stream",
          "text": [
            "tf.Tensor(8.495469, shape=(), dtype=float32)\n"
          ],
          "name": "stdout"
        }
      ]
    },
    {
      "cell_type": "code",
      "metadata": {
        "colab": {
          "base_uri": "https://localhost:8080/"
        },
        "id": "26ZYjkBGTAAv",
        "outputId": "6aac5a29-aeec-4c70-e396-3613ffd85097"
      },
      "source": [
        "# Lets train the model for 20 epochs\n",
        "import time \n",
        "# Training...\n",
        "batch=64\n",
        "#step=Test_step(batch)\n",
        "trn=tf.data.Dataset.from_tensor_slices((en,hn)).batch(batch,drop_remainder=True).shuffle(80000, reshuffle_each_iteration=True)\n",
        "epochs=4\n",
        "print('Training starts ...')\n",
        "for j in range(epochs):\n",
        "  t=time.time()\n",
        "  print('\\n\\n---Epoch {}  :----'.format(j+1))\n",
        "  for i,(inp,out) in enumerate(trn):\n",
        "    ls,ypred=step(inp,out)\n",
        "    ypred=tf.math.argmax(ypred,axis=2)\n",
        "    ypred=tf.reshape(ypred,shape=out[:,1:].shape)\n",
        "    ac=acc(ypred,out[:,1:])\n",
        "    if (i+1)%200==0:\n",
        "      print('At {}th batch    loss={} , accuracy={}'.format(i+1,ls,ac))\n",
        "\n",
        "  t=time.time()-t\n",
        "  print('\\nTime required for {}th epoch : {}'.format(j+1,t))"
      ],
      "execution_count": null,
      "outputs": [
        {
          "output_type": "stream",
          "text": [
            "Training starts ...\n",
            "\n",
            "\n",
            "---Epoch 1  :----\n",
            "At 200th batch    loss=0.25737515091896057 , accuracy=0.8490152955055237\n",
            "At 400th batch    loss=0.33152344822883606 , accuracy=0.8496444821357727\n",
            "At 600th batch    loss=0.16367371380329132 , accuracy=0.8502346277236938\n",
            "At 800th batch    loss=0.2507917582988739 , accuracy=0.8507636785507202\n",
            "At 1000th batch    loss=0.3414500653743744 , accuracy=0.8512564301490784\n",
            "At 1200th batch    loss=0.23873622715473175 , accuracy=0.8517256379127502\n",
            "At 1400th batch    loss=0.35926517844200134 , accuracy=0.8521904349327087\n",
            "\n",
            "Time required for 1th epoch : 735.893993139267\n",
            "\n",
            "\n",
            "---Epoch 2  :----\n",
            "At 200th batch    loss=0.17991571128368378 , accuracy=0.8528128266334534\n",
            "At 400th batch    loss=0.1679488867521286 , accuracy=0.8534064888954163\n",
            "At 600th batch    loss=0.21884238719940186 , accuracy=0.8539605736732483\n",
            "At 800th batch    loss=0.24053657054901123 , accuracy=0.8544783592224121\n",
            "At 1000th batch    loss=0.23464824259281158 , accuracy=0.8549587726593018\n",
            "At 1200th batch    loss=0.2414596825838089 , accuracy=0.8554204702377319\n",
            "At 1400th batch    loss=0.30575093626976013 , accuracy=0.8558511137962341\n",
            "\n",
            "Time required for 2th epoch : 682.8907513618469\n",
            "\n",
            "\n",
            "---Epoch 3  :----\n",
            "At 200th batch    loss=0.1696099489927292 , accuracy=0.8564342260360718\n",
            "At 400th batch    loss=0.16212977468967438 , accuracy=0.8569850921630859\n",
            "At 600th batch    loss=0.19818566739559174 , accuracy=0.8575007319450378\n",
            "At 800th batch    loss=0.2691586911678314 , accuracy=0.8579885363578796\n",
            "At 1000th batch    loss=0.31353870034217834 , accuracy=0.8584446310997009\n",
            "At 1200th batch    loss=0.22028934955596924 , accuracy=0.8588765859603882\n",
            "At 1400th batch    loss=0.1978335827589035 , accuracy=0.859275758266449\n",
            "\n",
            "Time required for 3th epoch : 667.6769843101501\n",
            "\n",
            "\n",
            "---Epoch 4  :----\n",
            "At 200th batch    loss=0.24485714733600616 , accuracy=0.8598269820213318\n",
            "At 400th batch    loss=0.22006119787693024 , accuracy=0.8603394627571106\n",
            "At 600th batch    loss=0.19024090468883514 , accuracy=0.8608317375183105\n",
            "At 800th batch    loss=0.27394211292266846 , accuracy=0.861289918422699\n",
            "At 1000th batch    loss=0.20054538547992706 , accuracy=0.8617159128189087\n",
            "At 1200th batch    loss=0.23506717383861542 , accuracy=0.8621044158935547\n",
            "At 1400th batch    loss=0.22102193534374237 , accuracy=0.8624885082244873\n",
            "\n",
            "Time required for 4th epoch : 683.710914850235\n"
          ],
          "name": "stdout"
        }
      ]
    },
    {
      "cell_type": "code",
      "metadata": {
        "id": "fWYRW8dgzBNm"
      },
      "source": [
        "class Prediction():\n",
        "  def __init__(self,batch):\n",
        "    self.batch=batch\n",
        "    #initializer=tf.random_normal_initializer(seed=33)\n",
        "    #self.dec_hidden=tf.Variable(initial_value=initializer(shape=(batch,1,21),dtype=tf.float32))\n",
        "    self.dec_input=np.array([5000]*batch).reshape(batch,1)\n",
        "    self.pred_out=[]\n",
        "    self.wghts=[]\n",
        "\n",
        "  def __call__(self,inp):\n",
        "    dec_inp=self.dec_input\n",
        "    #dec_hid=self.dec_hidden\n",
        "    enc_out,dec_hid=enc(inp)\n",
        "    dec_hid=tf.reshape(dec_hid,shape=(self.batch,1,dec_hid.shape[-1]))\n",
        "    for i in range(13):\n",
        "      #dec_inp=tf.reshape(inp[i],shape=(1,1))\n",
        "      dec_hid,pred,weights=dec([enc_out,dec_hid,dec_inp])\n",
        "      dec_inp=tf.reshape(tf.math.argmax(pred,axis=2),shape=(self.batch,1))\n",
        "      dec_hid=tf.reshape(dec_hid,shape=(self.batch,1,dec_hid.shape[-1]))\n",
        "      self.pred_out.append(pred)\n",
        "      self.wghts.append(weights)\n",
        "    weight=tf.concat(self.wghts,axis=2)\n",
        "    ypred=tf.concat(self.pred_out,axis=1)\n",
        "    return ypred,weight"
      ],
      "execution_count": null,
      "outputs": []
    },
    {
      "cell_type": "code",
      "metadata": {
        "colab": {
          "base_uri": "https://localhost:8080/"
        },
        "id": "gNVOtOeGzBKw",
        "outputId": "e7b529cb-0d4d-45da-9730-d8c22b157d88"
      },
      "source": [
        "import random\n",
        "for k in range(10):\n",
        "  p=random.randint(10,2500)\n",
        "  inp=en[p].reshape((1,13))\n",
        "  out=hn[p]\n",
        "\n",
        "  p=Prediction(1)\n",
        "\n",
        "  ypred,weight=p(inp)\n",
        "\n",
        "  ypr=tf.math.argmax(ypred,axis=2)\n",
        "  print([en_itow[i] for i in inp.reshape((13))])\n",
        "  print([hn_itow[i] for i in out[1:]])\n",
        "  print([hn_itow[i] for i in ypr.numpy().reshape((13))])"
      ],
      "execution_count": null,
      "outputs": [
        {
          "output_type": "stream",
          "text": [
            "['<start>', 'the', 'most', 'recently', 'selected', 'folder', 'in', 'the', 'folder', 'selection', 'dialog', '<end>', '<pad>']\n",
            "['फ़ोल्डर', 'चयन', 'संवाद', 'में', 'सबसे', 'हालिया', 'चयनित', 'फ़ोल्डर', '<end>', '<pad>', '<pad>', '<pad>']\n",
            "['फ़ोल्डर', 'चयन', 'संवाद', 'में', 'सबसे', 'हालिया', 'चयनित', 'फ़ोल्डर', '<end>', '<pad>', '<pad>', '<pad>', '<pad>']\n",
            "['<start>', 'sorry', 'could', 'not', 'save', 'this', 'file', '<end>', '<pad>', '<pad>', '<pad>', '<pad>', '<pad>']\n",
            "['क्षमा', 'करें', 'इस', 'फ़ाइल', 'को', 'सुरक्षित', 'नहीं', 'किया', 'जा', 'सका।', '<end>', '<pad>']\n",
            "['क्षमा', 'करें', 'इस', 'फ़ाइल', 'को', 'सुरक्षित', 'नहीं', 'किया', 'जा', 'सका।', '<end>', '<pad>', '<pad>']\n",
            "['<start>', 'missing', 'location', 'of', 'plugin', 's', '<end>', '<pad>', '<pad>', '<pad>', '<pad>', '<pad>', '<pad>']\n",
            "['अनुपस्थित', 'स्थान', 'का', 'प्लगइन', 'से', '<end>', '<pad>', '<pad>', '<pad>', '<pad>', '<pad>', '<pad>']\n",
            "['अनुपस्थित', 'स्थान', 'का', 'प्लगइन', 'से', '<end>', '<pad>', '<pad>', '<pad>', '<pad>', '<pad>', '<pad>', '<pad>']\n",
            "['<start>', 'please', 'give', 'the', 'information', 'regarding', 'the', 'date', 'of', 'birth', '<end>', '<pad>', '<pad>']\n",
            "['जन्म', 'तिथि', 'की', 'जानकारी', 'जरूर', 'दें।', '<end>', '<pad>', '<pad>', '<pad>', '<pad>', '<pad>']\n",
            "['जन्म', 'तिथि', 'की', 'जानकारी', 'की', 'जानकारी', 'देती', 'है', '<end>', '<pad>', '<pad>', '<pad>', '<pad>']\n",
            "['<start>', 'we', 'have', 'much', 'to', 'offer', '<end>', '<pad>', '<pad>', '<pad>', '<pad>', '<pad>', '<pad>']\n",
            "['हमारे', 'पास', 'देने', 'के', 'लिए', 'बहुत', 'कुछ', 'है।', '<end>', '<pad>', '<pad>', '<pad>']\n",
            "['हमारे', 'पास', 'बहुत', 'कुछ', 'है', '<end>', '<pad>', '<pad>', '<pad>', '<pad>', '<pad>', '<pad>', '<pad>']\n",
            "['<start>', 'the', 'monetary', 'compensation', 'which', 'is', 'awarded', 'as', 'a', 'matter', 'of', 'punishment', '<end>']\n",
            "['ऐसी', 'क्षतिपूर्ति', 'जो', 'दान', 'स्वरूप', 'प्रदान', 'करने', 'को', 'कहा', 'गया', 'हो।', '<end>']\n",
            "['ऐसी', 'क्षतिपूर्ति', 'जो', 'दान', 'स्वरूप', 'के', 'लिए', 'एक', 'गया', 'हो।', '<end>', '<pad>', '<pad>']\n",
            "['<start>', 'copy', 'the', 'selected', 'image', 'to', 'the', 'clipboard', '<end>', '<pad>', '<pad>', '<pad>', '<pad>']\n",
            "['क्लिपबोर्ड', 'में', 'चयनित', 'छवि', 'की', 'नक़ल', 'लें', '<end>', '<pad>', '<pad>', '<pad>', '<pad>']\n",
            "['क्लिपबोर्ड', 'में', 'चयनित', 'छवि', 'की', 'नक़ल', 'लें', '<end>', '<pad>', '<pad>', '<pad>', '<pad>', '<pad>']\n",
            "['<start>', 'could', 'not', 'load', 'the', 'location', '<end>', '<pad>', '<pad>', '<pad>', '<pad>', '<pad>', '<pad>']\n",
            "['स्थान', 'लोड', 'नहीं', 'कर', 'सका', '<end>', '<pad>', '<pad>', '<pad>', '<pad>', '<pad>', '<pad>']\n",
            "['स्थान', 'लोड', 'नहीं', 'कर', 'सका', '<end>', '<pad>', '<pad>', '<pad>', '<pad>', '<pad>', '<pad>', '<pad>']\n",
            "['<start>', 'please', 'select', 'another', 'image', '<end>', '<pad>', '<pad>', '<pad>', '<pad>', '<pad>', '<pad>', '<pad>']\n",
            "['कृपया', 'कोई', 'दूसरी', 'छवि', 'चुनें', '<end>', '<pad>', '<pad>', '<pad>', '<pad>', '<pad>', '<pad>']\n",
            "['कृपया', 'कोई', 'दूसरी', 'छवि', 'चुनें', '<end>', '<pad>', '<pad>', '<pad>', '<pad>', '<pad>', '<pad>', '<pad>']\n",
            "['<start>', 'place', 'the', 'nine', 'of', 'clubs', 'next', 'to', 'the', 'eight', 'of', 'clubs', '<end>']\n",
            "['चिड़ी', 'की', 'नहला', 'के', 'बगल', 'में', 'चिड़ी', 'के', 'अट्ठा', 'को', 'रखें', '<end>']\n",
            "['चिड़ी', 'की', 'नहला', 'के', 'बगल', 'में', 'चिड़ी', 'के', 'अट्ठा', 'को', 'रखें', '<end>', '<pad>']\n"
          ],
          "name": "stdout"
        }
      ]
    },
    {
      "cell_type": "code",
      "metadata": {
        "id": "iCGdUWQAzBIV",
        "colab": {
          "base_uri": "https://localhost:8080/",
          "height": 595
        },
        "outputId": "d9101692-479c-4c18-9fe9-14e9f4466ce7"
      },
      "source": [
        "inp=en[21].reshape((1,13))\n",
        "out=hn[21]\n",
        "\n",
        "p=Prediction(1)\n",
        "\n",
        "ypred,weight=p(inp)\n",
        "weight=tf.reshape(weight,shape=(13,13))\n",
        "fig = plt.figure(figsize=(10,10))\n",
        "ax = fig.add_subplot(1, 1, 1)\n",
        "ax.matshow(weight, cmap='viridis')\n",
        "plt.show()"
      ],
      "execution_count": null,
      "outputs": [
        {
          "output_type": "display_data",
          "data": {
            "image/png": "[encoded data removed]",
            "text/plain": [
              "<Figure size 720x720 with 1 Axes>"
            ]
          },
          "metadata": {
            "tags": [],
            "needs_background": "light"
          }
        }
      ]
    },
    {
      "cell_type": "code",
      "metadata": {
        "id": "LqqHmbP_YIWS"
      },
      "source": [
        "enc_out,dec_hid=enc(inp)\n",
        "      dec_hid=tf.reshape(dec_hid,shape=(self.batch,1,dec_hid.shape[-1]))\n",
        "      dec_inp=tf.reshape(out[:,i-1],shape=(self.batch,1))\n",
        "      for i in range(1,out.shape[1]):\n",
        "        dec_inp=tf.reshape(out[:,i-1],shape=(self.batch,1))\n",
        "        dec_hid,pred,weights=dec(enc_out,dec_hid,dec_inp)\n",
        "        dec_hid=tf.reshape(dec_hid,shape=(self.batch,1,dec_hid.shape[-1]))\n",
        "        dec_inp=tf.reshape(tf.math.argmax(pred,axis=2),shape=(self.batch,1))\n",
        "        self.pred_out.append(pred)\n",
        "\n",
        "      ypred=tf.concat(self.pred_out,axis=1)"
      ],
      "execution_count": null,
      "outputs": []
    },
    {
      "cell_type": "code",
      "metadata": {
        "id": "SGCcvK2XzBFu"
      },
      "source": [
        "def translate(sen):\n",
        "  sen=sen.split()\n",
        "  s=[]\n",
        "  for i in sen:\n",
        "    if i in tokenizer_eng.word_index.keys():\n",
        "      if tokenizer_eng.word_index[i] <5000:\n",
        "        s.append(tokenizer_eng.word_index[i])\n",
        "      else:\n",
        "        s.append(1)\n",
        "  s=s[:19]\n",
        "  s=[5000]+s+[5001]\n",
        "  inp=tf.keras.preprocessing.sequence.pad_sequences([s], maxlen=13,padding='post',truncating='post')\n",
        "  inp=inp.reshape((1,13))\n",
        "  enc_out,dec_hid=enc(inp)\n",
        "  \n",
        "  result=''\n",
        "  dec_inp=inp[:,0].reshape((1,1))\n",
        "  for i in range(1,13):\n",
        "    dec_hid=tf.reshape(dec_hid,shape=(1,1,dec_hid.shape[-1]))\n",
        "    dec_hid,pred,weights=dec(enc_out,dec_hid,dec_inp)\n",
        "    dec_inp=tf.reshape(tf.math.argmax(pred,axis=2),shape=(1,1))\n",
        "    r=tf.reshape(dec_inp,shape=(1))\n",
        "    r=hn_itow[r.numpy()[0]]\n",
        "    #print(r)\n",
        "    if r=='<end>':\n",
        "      return result\n",
        "    result=result + ' ' + r\n",
        "  return result\n"
      ],
      "execution_count": null,
      "outputs": []
    },
    {
      "cell_type": "code",
      "metadata": {
        "colab": {
          "base_uri": "https://localhost:8080/"
        },
        "id": "YSdP_iz0mTqo",
        "outputId": "91981b2b-2cb5-4917-dda3-ffd5402f712d"
      },
      "source": [
        "ans=translate(input('Enter sentence to translate'))\n",
        "print('\\n\\nTranslated sentence:\\n',ans)"
      ],
      "execution_count": null,
      "outputs": [
        {
          "output_type": "stream",
          "text": [
            "Enter sentence to translateI would love to accept your love\n",
            "\n",
            "\n",
            "Translated sentence:\n",
            "  आपके लिये समझने के लिए आपको प्यार करना चाहते हैं\n"
          ],
          "name": "stdout"
        }
      ]
    },
    {
      "cell_type": "markdown",
      "metadata": {
        "id": "_QYR5T7kEdVe"
      },
      "source": [
        "# Saving the model"
      ]
    },
    {
      "cell_type": "code",
      "metadata": {
        "id": "wmb0h7AHt6VF"
      },
      "source": [
        ""
      ],
      "execution_count": null,
      "outputs": []
    },
    {
      "cell_type": "code",
      "metadata": {
        "id": "oUN4OnHqQe_B"
      },
      "source": [
        "class Model(tf.keras.Model):\n",
        "  def __init__(self,enc,dec):\n",
        "    super(Model,self).__init__()\n",
        "    self.enc=enc\n",
        "    self.dec=dec\n",
        "\n",
        "  @tf.function\n",
        "  def  call (self,inp):\n",
        "    result=[]\n",
        "    enc_out,dec_hid=self.enc(inp)\n",
        "    dec_inp=tf.reshape(inp[:,0],shape=[1,1])\n",
        "    for i in range(1,13):\n",
        "      dec_hid=tf.reshape(dec_hid,shape=(1,1,dec_hid.shape[-1]))\n",
        "      dec_hid,pred,weights=self.dec([enc_out,dec_hid,dec_inp])\n",
        "      dec_inp=tf.reshape(tf.math.argmax(pred,axis=2),shape=(1,1))\n",
        "      result.append(dec_inp)\n",
        "    o=tf.concat(result,axis=1)\n",
        "    o=tf.squeeze(o,axis=[0])\n",
        "    return o"
      ],
      "execution_count": null,
      "outputs": []
    },
    {
      "cell_type": "code",
      "metadata": {
        "id": "jj9cymb6XCAX"
      },
      "source": [
        "model=Model(enc,dec)"
      ],
      "execution_count": null,
      "outputs": []
    },
    {
      "cell_type": "code",
      "metadata": {
        "id": "aucfSrkoXB4u"
      },
      "source": [
        "# Checking the model output.\n",
        "inp=en[2155].reshape((1,13))\n",
        "out=model(inp)"
      ],
      "execution_count": null,
      "outputs": []
    },
    {
      "cell_type": "code",
      "metadata": {
        "colab": {
          "base_uri": "https://localhost:8080/"
        },
        "id": "R0c3GwkzX9Ra",
        "outputId": "5475a802-4b9f-497b-8f7c-f98b86687483"
      },
      "source": [
        "out"
      ],
      "execution_count": null,
      "outputs": [
        {
          "output_type": "execute_result",
          "data": {
            "text/plain": [
              "<tf.Tensor: shape=(12,), dtype=int64, numpy=\n",
              "array([  93,   38,   11,  337, 5001,    0,    0,    0,    0,    0,    0,\n",
              "          0])>"
            ]
          },
          "metadata": {
            "tags": []
          },
          "execution_count": 35
        }
      ]
    },
    {
      "cell_type": "code",
      "metadata": {
        "id": "hWJCI0mgwFTY",
        "colab": {
          "base_uri": "https://localhost:8080/"
        },
        "outputId": "9487e050-c552-4a5a-8de1-5adf2dc6c2e6"
      },
      "source": [
        "p=Prediction(1)\n",
        "ypred,weight=p(inp)\n",
        "ypr=tf.math.argmax(ypred,axis=2)\n",
        "ypr"
      ],
      "execution_count": null,
      "outputs": [
        {
          "output_type": "execute_result",
          "data": {
            "text/plain": [
              "<tf.Tensor: shape=(1, 13), dtype=int64, numpy=\n",
              "array([[  93,   38,   11,  337, 5001,    0,    0,    0,    0,    0,    0,\n",
              "           0,    0]])>"
            ]
          },
          "metadata": {
            "tags": []
          },
          "execution_count": 36
        }
      ]
    },
    {
      "cell_type": "code",
      "metadata": {
        "id": "eZXx1hl9XJaW"
      },
      "source": [
        "path='/content/drive/MyDrive/models/en-hin app/1'"
      ],
      "execution_count": null,
      "outputs": []
    },
    {
      "cell_type": "code",
      "metadata": {
        "colab": {
          "base_uri": "https://localhost:8080/"
        },
        "id": "uJ2w5P2tP4jb",
        "outputId": "adfd9742-d81a-437e-cf54-3f41ce708538"
      },
      "source": [
        "tf.saved_model.save(\n",
        "    model, path,\n",
        "    signatures=model.call.get_concrete_function(\n",
        "        tf.TensorSpec(shape=[1,13], dtype=tf.int32, name=\"inp\")))"
      ],
      "execution_count": null,
      "outputs": [
        {
          "output_type": "stream",
          "text": [
            "WARNING:absl:Found untraced functions such as forward_gru_layer_call_fn, forward_gru_layer_call_and_return_conditional_losses, backward_gru_layer_call_fn, backward_gru_layer_call_and_return_conditional_losses, gru_cell_3_layer_call_fn while saving (showing 5 of 25). These functions will not be directly callable after loading.\n"
          ],
          "name": "stderr"
        },
        {
          "output_type": "stream",
          "text": [
            "WARNING:tensorflow:FOR KERAS USERS: The object that you are saving contains one or more Keras models or layers. If you are loading the SavedModel with `tf.keras.models.load_model`, continue reading (otherwise, you may ignore the following instructions). Please change your code to save with `tf.keras.models.save_model` or `model.save`, and confirm that the file \"keras.metadata\" exists in the export directory. In the future, Keras will only load the SavedModels that have this file. In other words, `tf.saved_model.save` will no longer write SavedModels that can be recovered as Keras models (this will apply in TF 2.5).\n",
            "\n",
            "FOR DEVS: If you are overwriting _tracking_metadata in your class, this property has been used to save metadata in the SavedModel. The metadta field will be deprecated soon, so please move the metadata to a different file.\n"
          ],
          "name": "stdout"
        },
        {
          "output_type": "stream",
          "text": [
            "WARNING:tensorflow:FOR KERAS USERS: The object that you are saving contains one or more Keras models or layers. If you are loading the SavedModel with `tf.keras.models.load_model`, continue reading (otherwise, you may ignore the following instructions). Please change your code to save with `tf.keras.models.save_model` or `model.save`, and confirm that the file \"keras.metadata\" exists in the export directory. In the future, Keras will only load the SavedModels that have this file. In other words, `tf.saved_model.save` will no longer write SavedModels that can be recovered as Keras models (this will apply in TF 2.5).\n",
            "\n",
            "FOR DEVS: If you are overwriting _tracking_metadata in your class, this property has been used to save metadata in the SavedModel. The metadta field will be deprecated soon, so please move the metadata to a different file.\n"
          ],
          "name": "stderr"
        },
        {
          "output_type": "stream",
          "text": [
            "INFO:tensorflow:Assets written to: /content/drive/MyDrive/models/en-hin app/1/assets\n"
          ],
          "name": "stdout"
        },
        {
          "output_type": "stream",
          "text": [
            "INFO:tensorflow:Assets written to: /content/drive/MyDrive/models/en-hin app/1/assets\n"
          ],
          "name": "stderr"
        }
      ]
    },
    {
      "cell_type": "code",
      "metadata": {
        "id": "oP0BAlXvwR3L"
      },
      "source": [
        "converter=tf.lite.TFLiteConverter.from_saved_model(path)"
      ],
      "execution_count": null,
      "outputs": []
    },
    {
      "cell_type": "code",
      "metadata": {
        "id": "iLmta0ZvwRzF",
        "colab": {
          "base_uri": "https://localhost:8080/"
        },
        "outputId": "8756bbf1-390e-488b-9e3c-5bec193b0b26"
      },
      "source": [
        "imported = tf.saved_model.load(path)\n",
        "print(imported.signatures)"
      ],
      "execution_count": null,
      "outputs": [
        {
          "output_type": "stream",
          "text": [
            "_SignatureMap({'serving_default': <ConcreteFunction signature_wrapper(*, inp) at 0x7F1E157DEF28>})\n"
          ],
          "name": "stdout"
        }
      ]
    },
    {
      "cell_type": "code",
      "metadata": {
        "id": "WNCrkhq2wRu9"
      },
      "source": [
        "tflite_model = converter.convert()"
      ],
      "execution_count": null,
      "outputs": []
    },
    {
      "cell_type": "code",
      "metadata": {
        "id": "Ttq1shUzwRqG"
      },
      "source": [
        "with open('model.tflite', 'wb') as f:\n",
        "  f.write(tflite_model)"
      ],
      "execution_count": null,
      "outputs": []
    },
    {
      "cell_type": "code",
      "metadata": {
        "id": "QfwVDnpaWZPS"
      },
      "source": [
        "with open('/content/drive/MyDrive/models/en-hin app/model.tflite', 'wb') as f:\n",
        "  f.write(tflite_model)"
      ],
      "execution_count": null,
      "outputs": []
    },
    {
      "cell_type": "code",
      "metadata": {
        "id": "SbG1eYqwwRls"
      },
      "source": [
        "interpreter = tf.lite.Interpreter(model_path=\"model.tflite\")\n",
        "interpreter.allocate_tensors()"
      ],
      "execution_count": null,
      "outputs": []
    },
    {
      "cell_type": "code",
      "metadata": {
        "id": "L81rCK_GwRhm"
      },
      "source": [
        "input_details = interpreter.get_input_details()\n",
        "output_details = interpreter.get_output_details()"
      ],
      "execution_count": null,
      "outputs": []
    },
    {
      "cell_type": "code",
      "metadata": {
        "id": "L17wtToIwo6b"
      },
      "source": [
        "input_shape = input_details[0]['shape']\n",
        "input_data = np.array(np.random.random_sample(input_shape), dtype=np.int32)\n",
        "interpreter.set_tensor(input_details[0]['index'], input_data)"
      ],
      "execution_count": null,
      "outputs": []
    },
    {
      "cell_type": "code",
      "metadata": {
        "id": "irNWQckawo2N"
      },
      "source": [
        "interpreter.invoke()"
      ],
      "execution_count": null,
      "outputs": []
    },
    {
      "cell_type": "code",
      "metadata": {
        "id": "xv0sxZgBwoR4"
      },
      "source": [
        "output_data = interpreter.get_tensor(output_details[0]['index'])\n",
        "print(output_data)"
      ],
      "execution_count": null,
      "outputs": []
    },
    {
      "cell_type": "code",
      "metadata": {
        "id": "ZqtAY4sNwoMf"
      },
      "source": [
        ""
      ],
      "execution_count": null,
      "outputs": []
    },
    {
      "cell_type": "code",
      "metadata": {
        "id": "IRYAqMhSwRcy"
      },
      "source": [
        ""
      ],
      "execution_count": null,
      "outputs": []
    },
    {
      "cell_type": "code",
      "metadata": {
        "id": "8JFVBNnxOvz7"
      },
      "source": [
        "hn_wtoi=tokenizer_hin.word_index\n",
        "en_wtoi=tokenizer_eng.word_index"
      ],
      "execution_count": null,
      "outputs": []
    },
    {
      "cell_type": "code",
      "metadata": {
        "id": "T7PzllOix-x3"
      },
      "source": [
        "import json\n",
        "\n",
        "with open('/content/drive/MyDrive/models/en-hin app/hn_wtoi.json', 'w') as fp:\n",
        "    json.dump(hn_wtoi, fp,indent=2)"
      ],
      "execution_count": null,
      "outputs": []
    },
    {
      "cell_type": "code",
      "metadata": {
        "id": "emKmiSZvyBJD"
      },
      "source": [
        "with open('/content/drive/MyDrive/models/en-hin app/en_wtoi.json', 'w') as fp:\n",
        "    json.dump(en_wtoi, fp,indent=2)"
      ],
      "execution_count": null,
      "outputs": []
    },
    {
      "cell_type": "code",
      "metadata": {
        "id": "9uuCbOYAyEA4"
      },
      "source": [
        "with open('/content/drive/MyDrive/models/en-hin app/hn_itow.json', 'w') as fp:\n",
        "    json.dump(hn_itow, fp,indent=2)"
      ],
      "execution_count": null,
      "outputs": []
    },
    {
      "cell_type": "code",
      "metadata": {
        "id": "zFc0sVs7yNP0"
      },
      "source": [
        "with open('/content/drive/MyDrive/models/en-hin app/en_itow.json', 'w') as fp:\n",
        "    json.dump(en_itow, fp,indent=2)"
      ],
      "execution_count": null,
      "outputs": []
    },
    {
      "cell_type": "code",
      "metadata": {
        "id": "RFzoiLFQBa-L"
      },
      "source": [
        "with open('/content/drive/MyDrive/models/en-hin app/en_itow.json', 'w') as fp:\n",
        "    json.dump(en_itow, fp,indent=2)"
      ],
      "execution_count": null,
      "outputs": []
    }
  ]
}