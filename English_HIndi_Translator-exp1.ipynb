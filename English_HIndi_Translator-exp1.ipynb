{
  "nbformat": 4,
  "nbformat_minor": 0,
  "metadata": {
    "colab": {
      "name": "Exp1- English-HIndi Translator.ipynb",
      "provenance": []
    },
    "kernelspec": {
      "name": "python3",
      "display_name": "Python 3"
    }
  },
  "cells": [
    {
      "cell_type": "markdown",
      "metadata": {
        "id": "M9cHNHem4UeB"
      },
      "source": [
        "# Engish-Hindi Translator \n",
        "\n",
        "1. Implemented custom loss"
      ]
    },
    {
      "cell_type": "code",
      "metadata": {
        "id": "cMbNSfpl4lJc"
      },
      "source": [
        "import tensorflow as tf\n",
        "import matplotlib.pyplot as plt\n",
        "import time \n",
        "import numpy as np\n",
        "import pandas as pd\n",
        "import random\n",
        "random.seed=22"
      ],
      "execution_count": null,
      "outputs": []
    },
    {
      "cell_type": "code",
      "metadata": {
        "id": "NwHLXfnv2mA5"
      },
      "source": [
        "# Import data\n",
        "hin=open('/content/drive/MyDrive/Projects/English-HIndi Translator /IITB.en-hi.hi','r')\n",
        "hin_inp=hin.read()\n",
        "hin_inp=hin_inp.split('\\n')\n",
        "hin.close()\n",
        "eng=open('/content/drive/MyDrive/Projects/English-HIndi Translator /IITB.en-hi.en','r')\n",
        "eng_inp=eng.read()\n",
        "eng_inp=eng_inp.split('\\n')\n",
        "eng.close()\n",
        "\n",
        "\n",
        "# Shuffle the data\n",
        "k=list(zip(eng_inp,hin_inp))\n",
        "random.shuffle(k)\n",
        "k=[i for i in k if len(i[0].split())<20 and len(i[1].split())<20 and len(i[0].split())>2 and len(i[1].split())>2]\n",
        "eng=[j for (j,i) in k]\n",
        "hin=[i for (j,i) in k]\n",
        "\n"
      ],
      "execution_count": null,
      "outputs": []
    },
    {
      "cell_type": "code",
      "metadata": {
        "id": "qrmhmbhR5LYl"
      },
      "source": [
        "# Tokenizing english text\n",
        "tokenizer_eng=tf.keras.preprocessing.text.Tokenizer(num_words=5000, oov_token='<oov>')\n",
        "tokenizer_eng.fit_on_texts(eng)\n",
        "trn_eng=tokenizer_eng.texts_to_sequences(eng)\n",
        "\n",
        "# Tokenizing hindi text\n",
        "tokenizer_hin=tf.keras.preprocessing.text.Tokenizer(num_words=5000, oov_token='<oov>')\n",
        "tokenizer_hin.fit_on_texts(hin)\n",
        "trn_hin=tokenizer_hin.texts_to_sequences(hin)\n"
      ],
      "execution_count": null,
      "outputs": []
    },
    {
      "cell_type": "code",
      "metadata": {
        "colab": {
          "base_uri": "https://localhost:8080/",
          "height": 632
        },
        "id": "fn5hgADe_J3k",
        "outputId": "6ed22a7d-c1b0-487e-dbc7-2d922ac7f3f0"
      },
      "source": [
        "# Checking the length of sentences\n",
        "h=[len(i) for i in trn_hin ]\n",
        "e=[len(i) for i in trn_eng ]\n",
        "print('mean length for Hindi sentence ={}, for english={}'.format(np.mean(h),np.mean(e)))\n",
        "print('STD for Hindi sentence length ={}, for english={}'.format(np.std(h),np.std(e)))\n",
        "\n",
        "\n",
        "plt.hist(h ,bins=50)\n",
        "plt.show()\n",
        "plt.hist(e ,bins=50)\n",
        "plt.show()\n",
        "\n",
        "# max len \\\n",
        "print('\\n\\nMax len for hindi ={} , for english {}'.format(max(h),max(e)))\n",
        "print('\\n Length of dataset=',len(trn_eng))"
      ],
      "execution_count": null,
      "outputs": [
        {
          "output_type": "stream",
          "text": [
            "mean length for Hindi sentence =9.791752295420268, for english=9.057902839670216\n",
            "STD for Hindi sentence length =4.681813211837457, for english=4.391096120831194\n"
          ],
          "name": "stdout"
        },
        {
          "output_type": "display_data",
          "data": {
            "image/png": "[encoded data removed]",
            "text/plain": [
              "<Figure size 432x288 with 1 Axes>"
            ]
          },
          "metadata": {
            "tags": [],
            "needs_background": "light"
          }
        },
        {
          "output_type": "display_data",
          "data": {
            "image/png": "[encoded data removed]",
            "text/plain": [
              "<Figure size 432x288 with 1 Axes>"
            ]
          },
          "metadata": {
            "tags": [],
            "needs_background": "light"
          }
        },
        {
          "output_type": "stream",
          "text": [
            "\n",
            "\n",
            "Max len for hindi =34 , for english 29\n",
            "\n",
            " Length of dataset= 702159\n"
          ],
          "name": "stdout"
        }
      ]
    },
    {
      "cell_type": "code",
      "metadata": {
        "colab": {
          "base_uri": "https://localhost:8080/"
        },
        "id": "HL_rudF-Bazx",
        "outputId": "e4e8f5dc-b0aa-4bd8-d119-24154fc841cf"
      },
      "source": [
        "# We can pad the sequence upto its max length\n",
        "\n",
        "hn=tf.keras.preprocessing.sequence.pad_sequences(\n",
        "    trn_hin, maxlen=19, dtype='int32', padding='post', truncating='post',\n",
        "    value=0.0)\n",
        "\n",
        "en=tf.keras.preprocessing.sequence.pad_sequences(\n",
        "    trn_eng, maxlen=19, dtype='int32', padding='post', truncating='post',\n",
        "    value=0.0)\n",
        "\n",
        "\n",
        "# Lets check the vocab length\n",
        "\n",
        "print('Length of Hindi vocab {} and english vocab {}'.format(len(tokenizer_hin.word_index),len(tokenizer_eng.word_index)))"
      ],
      "execution_count": null,
      "outputs": [
        {
          "output_type": "stream",
          "text": [
            "Length of Hindi vocab 181955 and english vocab 118534\n"
          ],
          "name": "stdout"
        }
      ]
    },
    {
      "cell_type": "code",
      "metadata": {
        "colab": {
          "base_uri": "https://localhost:8080/",
          "height": 513
        },
        "id": "vIp9KoRqdif_",
        "outputId": "830d3b3a-5e90-40c4-95c4-0cbc19dc4656"
      },
      "source": [
        "# We don't want to train our model on OOV words so lets see its distribution in our training set\n",
        "\n",
        "h=[np.nonzero(a>1)[0].shape[0]/np.nonzero(a)[0].shape[0] for a in hn]\n",
        "e=[np.nonzero(a>1)[0].shape[0]/np.nonzero(a)[0].shape[0] for a in en]\n",
        "\n",
        "\n",
        "plt.hist(h ,bins=50)\n",
        "plt.show()\n",
        "plt.hist(e ,bins=50)\n",
        "plt.show()\n",
        "\n"
      ],
      "execution_count": null,
      "outputs": [
        {
          "output_type": "display_data",
          "data": {
            "image/png": "[encoded data removed]",
            "text/plain": [
              "<Figure size 432x288 with 1 Axes>"
            ]
          },
          "metadata": {
            "tags": [],
            "needs_background": "light"
          }
        },
        {
          "output_type": "display_data",
          "data": {
            "image/png": "[encoded data removed]",
            "text/plain": [
              "<Figure size 432x288 with 1 Axes>"
            ]
          },
          "metadata": {
            "tags": [],
            "needs_background": "light"
          }
        }
      ]
    },
    {
      "cell_type": "code",
      "metadata": {
        "colab": {
          "base_uri": "https://localhost:8080/"
        },
        "id": "L6KfAN7Jg6Z4",
        "outputId": "a3f261a1-7e1e-4c1b-8ace-02ec89def24b"
      },
      "source": [
        "# Lets remove sentences containing OOV words\n",
        "h=[i for i in range(len(hn)) if 1 not in hn[i]]\n",
        "hn_=hn[h]\n",
        "en_=en[h]\n",
        "\n",
        "e=[i for i in range(len(en_)) if 1 not in en_[i]]\n",
        "train_out=hn_[e]\n",
        "train_inp=en_[e]\n",
        "\n",
        "assert len(train_inp)==len(train_out), 'something went wrong'\n",
        "\n",
        "# Lets check few example\n",
        "tokenizer_hin.index_word[0]='<pad>'\n",
        "tokenizer_eng.index_word[0]='<pad>'\n",
        "for n in range(5):\n",
        "  r=random.randint(10,10000)\n",
        "  a=train_inp[r]\n",
        "  b=train_out[r]\n",
        "  print([tokenizer_eng.index_word[i] for i in a],'\\n',[tokenizer_hin.index_word[i] for i in b])"
      ],
      "execution_count": null,
      "outputs": [
        {
          "output_type": "stream",
          "text": [
            "['nay', 'but', 'they', 'are', 'in', 'doubt', 'playing', '<pad>', '<pad>', '<pad>', '<pad>', '<pad>', '<pad>', '<pad>', '<pad>', '<pad>', '<pad>', '<pad>', '<pad>'] \n",
            " ['लेकिन', 'ये', 'लोग', 'तो', 'शक़', 'में', 'पड़े', 'खेल', 'रहे', 'हैं', '<pad>', '<pad>', '<pad>', '<pad>', '<pad>', '<pad>', '<pad>', '<pad>', '<pad>']\n",
            "['well', 'the', 'means', 'should', 'be', 'exactly', 'the', 'same', 'so', 'here', 'it', 'would', 'be', '7', '5', 'and', 'here', '<pad>', '<pad>'] \n",
            " ['खैर', 'इसका', 'मतलब', 'वास्तव', 'में', 'एक', 'ही', 'होना', 'चाहिए', 'यहाँ', 'तो', 'यह', '7', '5', 'हो', 'सकता', 'है', 'और', 'यहाँ']\n",
            "['ten', 'times', 'twelve', '<pad>', '<pad>', '<pad>', '<pad>', '<pad>', '<pad>', '<pad>', '<pad>', '<pad>', '<pad>', '<pad>', '<pad>', '<pad>', '<pad>', '<pad>', '<pad>'] \n",
            " ['10', 'गुना', '12', '<pad>', '<pad>', '<pad>', '<pad>', '<pad>', '<pad>', '<pad>', '<pad>', '<pad>', '<pad>', '<pad>', '<pad>', '<pad>', '<pad>', '<pad>', '<pad>']\n",
            "['major', 'industries', 'in', 'the', 'state', 'are', '<pad>', '<pad>', '<pad>', '<pad>', '<pad>', '<pad>', '<pad>', '<pad>', '<pad>', '<pad>', '<pad>', '<pad>', '<pad>'] \n",
            " ['राज्य', 'के', 'मुख्य', 'उद्योगों', 'में', 'निम्न', 'हैं', '<pad>', '<pad>', '<pad>', '<pad>', '<pad>', '<pad>', '<pad>', '<pad>', '<pad>', '<pad>', '<pad>', '<pad>']\n",
            "['shared', 'library', 'operations', '<pad>', '<pad>', '<pad>', '<pad>', '<pad>', '<pad>', '<pad>', '<pad>', '<pad>', '<pad>', '<pad>', '<pad>', '<pad>', '<pad>', '<pad>', '<pad>'] \n",
            " ['साझेदारी', 'लाइब्रेरी', 'संचालन', '<pad>', '<pad>', '<pad>', '<pad>', '<pad>', '<pad>', '<pad>', '<pad>', '<pad>', '<pad>', '<pad>', '<pad>', '<pad>', '<pad>', '<pad>', '<pad>']\n"
          ],
          "name": "stdout"
        }
      ]
    },
    {
      "cell_type": "code",
      "metadata": {
        "colab": {
          "base_uri": "https://localhost:8080/",
          "height": 630
        },
        "id": "36YuG1B0hofM",
        "outputId": "279939b8-ec39-4759-d7b2-3f4a19be9c30"
      },
      "source": [
        "# Lets again check the sentence length distribution\n",
        "# Checking the length of sentences\n",
        "h=[np.nonzero(i>0)[0].shape[0] for i in train_out ]\n",
        "e=[np.nonzero(i>0)[0].shape[0] for i in train_inp ]\n",
        "print('mean length for Hindi sentence ={}, for english={}'.format(np.mean(h),np.mean(e)))\n",
        "print('STD for Hindi sentence length ={}, for english={}'.format(np.std(h),np.std(e)))\n",
        "\n",
        "\n",
        "plt.hist(h ,bins=50)\n",
        "plt.show()\n",
        "plt.hist(e ,bins=50)\n",
        "plt.show()\n",
        "\n",
        "# max len \\\n",
        "print('\\n\\nMax len for hindi ={} , for english {}'.format(max(h),max(e)))\n",
        "print('\\n Length of dataset=',len(train_inp))"
      ],
      "execution_count": null,
      "outputs": [
        {
          "output_type": "stream",
          "text": [
            "mean length for Hindi sentence =7.470052942643026, for english=6.862422455893352\n",
            "STD for Hindi sentence length =3.914417655668919, for english=3.6126042930806803\n"
          ],
          "name": "stdout"
        },
        {
          "output_type": "display_data",
          "data": {
            "image/png": "[encoded data removed]",
            "text/plain": [
              "<Figure size 432x288 with 1 Axes>"
            ]
          },
          "metadata": {
            "tags": [],
            "needs_background": "light"
          }
        },
        {
          "output_type": "display_data",
          "data": {
            "image/png": "[encoded data removed]",
            "text/plain": [
              "<Figure size 432x288 with 1 Axes>"
            ]
          },
          "metadata": {
            "tags": [],
            "needs_background": "light"
          }
        },
        {
          "output_type": "stream",
          "text": [
            "\n",
            "\n",
            "Max len for hindi =19 , for english 19\n",
            "\n",
            " Length of dataset= 136374\n"
          ],
          "name": "stdout"
        }
      ]
    },
    {
      "cell_type": "code",
      "metadata": {
        "colab": {
          "base_uri": "https://localhost:8080/"
        },
        "id": "QJcG9wy8DiPC",
        "outputId": "7df2645c-5223-45b0-af4a-8b00dbcd3ae5"
      },
      "source": [
        "# Add pad and start word.\n",
        "\n",
        "# In english vocab add <pad>  token \n",
        "tokenizer_eng.word_index['<pad>'] = 0\n",
        "\n",
        "\n",
        "\n",
        "# In hindi vocab add <pad> and <start> token \n",
        "tokenizer_hin.word_index['<pad>']=0\n",
        "tokenizer_hin.word_index['<start>'] = 5000\n",
        "\n",
        "\n",
        "print('Now the size of the vocab is now, for hindi {} and eng {}'.format(len(tokenizer_hin.word_index),len(tokenizer_eng.word_index)))\n",
        "\n",
        "# Create reverse Dictionary \n",
        "\n",
        "hn_itow={i:j for j,i in tokenizer_hin.word_index.items()}\n",
        "en_itow={i:j for j,i in tokenizer_eng.word_index.items()}"
      ],
      "execution_count": null,
      "outputs": [
        {
          "output_type": "stream",
          "text": [
            "Now the size of the vocab is now, for hindi 181957 and eng 118535\n"
          ],
          "name": "stdout"
        }
      ]
    },
    {
      "cell_type": "code",
      "metadata": {
        "colab": {
          "base_uri": "https://localhost:8080/"
        },
        "id": "19nN5qYIJEXE",
        "outputId": "06053baf-8134-4b34-c089-e5fcc324791a"
      },
      "source": [
        "train_out.shape "
      ],
      "execution_count": null,
      "outputs": [
        {
          "output_type": "execute_result",
          "data": {
            "text/plain": [
              "(136374, 19)"
            ]
          },
          "metadata": {
            "tags": []
          },
          "execution_count": 99
        }
      ]
    },
    {
      "cell_type": "code",
      "metadata": {
        "colab": {
          "base_uri": "https://localhost:8080/"
        },
        "id": "SJjdan2VFNz4",
        "outputId": "cf09b538-71cf-4858-eef1-b41a42f5cfe2"
      },
      "source": [
        "train_inp.shape"
      ],
      "execution_count": null,
      "outputs": [
        {
          "output_type": "execute_result",
          "data": {
            "text/plain": [
              "(136374, 19)"
            ]
          },
          "metadata": {
            "tags": []
          },
          "execution_count": 100
        }
      ]
    },
    {
      "cell_type": "markdown",
      "metadata": {
        "id": "dp_HCMucJyHR"
      },
      "source": [
        "#Attention mechanism for word alignmnt \n",
        "\n",
        "Implementing the paper's archetacture  \n",
        "\n",
        "Paper- NEURAL MACHINE TRANSLATION\n",
        "BY JOINTLY LEARNING TO ALIGN AND TRANSLATE\n",
        "by - Dzmitry Bahdanau\n",
        "\n",
        "\n",
        "  1. The Encoder -Decoder architecture is as follows-\n",
        "\n",
        "  Encoder = Input --> Embedding with 24 vector size ---> Bi-Directional lstm with 22 units.\n",
        "    \n",
        "  Decoder = Output --> Bidirectional lstm 25 units--> softmax Dense\n",
        "    "
      ]
    },
    {
      "cell_type": "code",
      "metadata": {
        "id": "zQBp0TQbJ6iq"
      },
      "source": [
        "# Encoder\n",
        "\n",
        "# Building encoder with bidirectional lstm\n",
        "tf.keras.backend.clear_session()\n",
        "\n",
        "class Encoder(tf.keras.Model):\n",
        "  def __init__(self):\n",
        "    super(Encoder,self).__init__()\n",
        "    self.em=tf.keras.layers.Embedding(5000,256)\n",
        "    self.drop=tf.keras.layers.Dropout(0.2)\n",
        "    self.drop1=tf.keras.layers.Dropout(0.2)\n",
        "    self.enc=tf.keras.layers.Bidirectional(tf.keras.layers.GRU(64,activation='relu',return_state=True,return_sequences=True))\n",
        "    #self.enc1=tf.keras.layers.Bidirectional(tf.keras.layers.GRU(15,activation='relu',return_state=True))\n",
        "\n",
        "  @tf.function\n",
        "  def call(self,inputs):\n",
        "    emb=self.em(inputs)\n",
        "    d1=self.drop(emb)\n",
        "    en1=self.enc(d1)\n",
        "    #d2=self.drop1(en1[0])\n",
        "    #en2=self.enc1(d2)\n",
        "    #out=tf.reshape(en1[0],(en1[0].shape[0],1,30))\n",
        "    hid=tf.concat([en1[1],en1[2]],axis=1)\n",
        "    return en1[0],hid\n",
        "\n",
        "enc=Encoder()"
      ],
      "execution_count": null,
      "outputs": []
    },
    {
      "cell_type": "code",
      "metadata": {
        "colab": {
          "base_uri": "https://localhost:8080/"
        },
        "id": "WldwhjWmK4V7",
        "outputId": "0bfbbf4c-9e1c-4b55-d859-54c41517088c"
      },
      "source": [
        "# Testing the input\n",
        "# Required output shape==> (batch,maxlen,hidden_state)  ==(2,22,44)\n",
        "inp=train_inp[:2]\n",
        "#o=enc(inp)\n",
        "out,hid=enc(inp)\n",
        "assert out.shape==(2,19,128), 'Somthing went wrong with out'\n",
        "assert hid.shape==(2,128), 'Somthing went wrong with hidden output'\n",
        "print('looks fine')"
      ],
      "execution_count": null,
      "outputs": [
        {
          "output_type": "stream",
          "text": [
            "looks fine\n"
          ],
          "name": "stdout"
        }
      ]
    },
    {
      "cell_type": "code",
      "metadata": {
        "id": "pOKUcrNMLKnY"
      },
      "source": [
        "class BahdanauAttention(tf.keras.Model):\n",
        "  def __init__(self,units):\n",
        "    super(BahdanauAttention,self).__init__()\n",
        "    self.w1=tf.keras.layers.Dense(units)\n",
        "    self.w2=tf.keras.layers.Dense(units)\n",
        "    self.v=tf.keras.layers.Dense(1)\n",
        "    self.activation = tf.keras.layers.Activation('tanh')\n",
        "    #self.activation1 = tf.keras.layers.Activation('softmax')\n",
        "    #self.soft=tf.keras.activations.softmax(axis=1)\n",
        "\n",
        "  #@tf.function\n",
        "  def call(self,dec_hid,enc_out):\n",
        "    x=self.w1(dec_hid)+self.w2(enc_out)\n",
        "    x=self.activation(x)\n",
        "    x=self.v(x)\n",
        "    wghts=tf.keras.activations.softmax(x,axis=1)\n",
        "    context_vector=wghts*enc_out\n",
        "    context_vector=tf.reduce_sum(context_vector,axis=1)\n",
        "    return wghts,context_vector\n",
        "\n",
        "\n",
        "#units=30\n",
        "at=BahdanauAttention(128)"
      ],
      "execution_count": null,
      "outputs": []
    },
    {
      "cell_type": "code",
      "metadata": {
        "colab": {
          "base_uri": "https://localhost:8080/"
        },
        "id": "qjSL7V7JLOUA",
        "outputId": "e59e8b94-a03d-4350-deb0-393bbc4f2191"
      },
      "source": [
        "#Testing bahdanau's attention word alignment\n",
        "\n",
        "init=tf.random_normal_initializer()\n",
        "dec_hid=tf.Variable(initial_value=init(shape=(2,1,128),dtype=tf.float32))\n",
        "enc_out=out\n",
        "\n",
        "# Expected weights output shape ==> (batch,maxlen,1) ==> (2,15,1)\n",
        "# Expected context vector output shape ==> (batch,hidden) ==> (2,15)\n",
        "weights,context_vector=at(dec_hid,enc_out)\n",
        "assert weights.shape==(2,19,1), 'Somthing went wrong with weights'\n",
        "assert context_vector.shape==(2,128), 'Somthing went wrong with context_vector'\n",
        "print('looks fine')\n",
        "\n",
        "# Printing the weights\n",
        "weights"
      ],
      "execution_count": null,
      "outputs": [
        {
          "output_type": "stream",
          "text": [
            "looks fine\n"
          ],
          "name": "stdout"
        },
        {
          "output_type": "execute_result",
          "data": {
            "text/plain": [
              "<tf.Tensor: shape=(2, 19, 1), dtype=float32, numpy=\n",
              "array([[[0.05355104],\n",
              "        [0.05294808],\n",
              "        [0.05339638],\n",
              "        [0.05282842],\n",
              "        [0.05261099],\n",
              "        [0.0525266 ],\n",
              "        [0.05249444],\n",
              "        [0.0524826 ],\n",
              "        [0.05247824],\n",
              "        [0.05247613],\n",
              "        [0.05247409],\n",
              "        [0.05247096],\n",
              "        [0.05246592],\n",
              "        [0.05245828],\n",
              "        [0.05244783],\n",
              "        [0.05243604],\n",
              "        [0.05242932],\n",
              "        [0.0524497 ],\n",
              "        [0.05257495]],\n",
              "\n",
              "       [[0.05352543],\n",
              "        [0.0524766 ],\n",
              "        [0.05344094],\n",
              "        [0.05313791],\n",
              "        [0.05265778],\n",
              "        [0.05139646],\n",
              "        [0.05289269],\n",
              "        [0.05346818],\n",
              "        [0.05346312],\n",
              "        [0.05307414],\n",
              "        [0.05346812],\n",
              "        [0.05269337],\n",
              "        [0.05200032],\n",
              "        [0.05201331],\n",
              "        [0.05202155],\n",
              "        [0.0520228 ],\n",
              "        [0.05202399],\n",
              "        [0.05204847],\n",
              "        [0.05217483]]], dtype=float32)>"
            ]
          },
          "metadata": {
            "tags": []
          },
          "execution_count": 105
        }
      ]
    },
    {
      "cell_type": "code",
      "metadata": {
        "id": "dYjlwBS3MczS"
      },
      "source": [
        "# Decoder\n",
        "# As we are applying teacher forcing, we can't use Bidirectional layer\n",
        "\n",
        "class Decoder(tf.keras.Model):\n",
        "  def __init__(self):\n",
        "    super(Decoder,self).__init__()\n",
        "    self.em=tf.keras.layers.Embedding(5001,256)\n",
        "    self.drop=tf.keras.layers.Dropout(0.2)\n",
        "    #self.drop1=tf.keras.layers.Dropout(0.2)\n",
        "    self.dec=tf.keras.layers.GRU(128,activation='relu',return_state=True,return_sequences=True)\n",
        "    #self.dec1=tf.keras.layers.GRU(21,activation='relu',return_state=True,return_sequences=True)\n",
        "    self.dense=tf.keras.layers.Dense(5001,activation='sigmoid')\n",
        "    self.attention=BahdanauAttention(128)\n",
        "  @tf.function\n",
        "  def call(self,enc_out,dec_hidden,inp):\n",
        "    x=self.em(inp)\n",
        "    weights,context_vector=self.attention(dec_hidden,enc_out)\n",
        "    context_vector=tf.reshape(context_vector,shape=(context_vector.shape[0],1,context_vector.shape[-1]))\n",
        "    concat=tf.keras.layers.concatenate([x,context_vector,dec_hidden],axis=2)\n",
        "    #drop=self.drop(concat)\n",
        "    dec_out,dec_hidden=self.dec(concat)\n",
        "    #drop1=self.drop1(dec_out)\n",
        "    #dec_hidden2=tf.reshape(dec_hidden2,shape=(dec_hidden2.shape[0],1,dec_hidden2.shape[-1]))\n",
        "    #concat1=tf.keras.layers.concatenate([dec_out,dec_hidden2],axis=2)\n",
        "    #drop1=self.drop1(concat1)\n",
        "    #dec_out2,dec_hidden2=self.dec1(drop1)\n",
        "    pred=self.dense(dec_out)\n",
        "    return dec_hidden,pred,weights\n",
        "\n",
        "dec=Decoder()"
      ],
      "execution_count": null,
      "outputs": []
    },
    {
      "cell_type": "code",
      "metadata": {
        "colab": {
          "base_uri": "https://localhost:8080/"
        },
        "id": "hY2_-Pf8NJhC",
        "outputId": "28d7fa7a-cccc-46f0-c99d-880a75bb7829"
      },
      "source": [
        "#Testing decoder\n",
        "\n",
        "# Output shapes should be : dec_hidden=(batch,1,hidden)==>(2,1,21),weights=(batch,maxlen,1)==>(2,15,1)\n",
        "#                           pred=(batch,1,vocab)==>(2,1,347) \n",
        "\n",
        "inp=np.array([5000,5000]).reshape((2,1))\n",
        "dec_hidden,pred,weights=dec(enc_out,dec_hid,inp)\n",
        "\n",
        "assert weights.shape==(2,19,1), 'Somthing went wrong with weights'\n",
        "assert dec_hidden.shape==(2,128), 'Somthing went wrong with decoder hidden'\n",
        "assert pred.shape==(2,1,5001), 'Somthing went wrong with prediction vector'\n",
        "\n",
        "print('looks good')"
      ],
      "execution_count": null,
      "outputs": [
        {
          "output_type": "stream",
          "text": [
            "looks good\n"
          ],
          "name": "stdout"
        }
      ]
    },
    {
      "cell_type": "code",
      "metadata": {
        "id": "USy0Vl6F4bDN"
      },
      "source": [
        "optimizer = tf.keras.optimizers.Adam()\n",
        "loss_object = tf.keras.losses.SparseCategoricalCrossentropy(\n",
        "    from_logits=True, reduction='none')\n",
        "\n",
        "def loss_function(real, pred):\n",
        "  mask = tf.math.logical_not(tf.math.equal(real, 0))\n",
        "  loss_ = loss_object(real, pred)\n",
        "\n",
        "  mask = tf.cast(mask, dtype=loss_.dtype)\n",
        "  loss_ *= mask\n",
        "\n",
        "  return tf.reduce_mean(loss_)"
      ],
      "execution_count": null,
      "outputs": []
    },
    {
      "cell_type": "code",
      "metadata": {
        "id": "xpDQmEbWNfAv"
      },
      "source": [
        "# Creating required APIs\n",
        "ls_ = tf.keras.losses.SparseCategoricalCrossentropy()\n",
        "optimizer = tf.keras.optimizers.Adam()\n",
        "loss_ = tf.keras.losses.SparseCategoricalCrossentropy(reduction='none')\n",
        "acc=tf.keras.metrics.Accuracy()\n",
        "def loss_fun(yr,yp):\n",
        "  mask=tf.math.logical_not(tf.math.equal(yr,0))\n",
        "  loss=loss_(yr,yp)\n",
        "  mask=tf.cast(mask,dtype=loss.dtype)\n",
        "  loss=loss*mask\n",
        "  return tf.reduce_mean(loss)"
      ],
      "execution_count": null,
      "outputs": []
    },
    {
      "cell_type": "code",
      "metadata": {
        "id": "3r_LqZuyNkxp"
      },
      "source": [
        "# with autograph\n",
        "\n",
        "class Test_step():\n",
        "  def __init__(self,batch):\n",
        "    self.batch=batch\n",
        "    #initializer=tf.random_normal_initializer(seed=33)\n",
        "    #self.dec_hidden=tf.Variable(initial_value=initializer(shape=(batch,1,21),dtype=tf.float32))\n",
        "    #self.dec_hidden=tf.ones(shape=(batch,1,21))\n",
        "    self.dec_input=np.array([5000]*batch).reshape(batch,1)\n",
        "    self.pred_out=[]\n",
        "    self.wghts=[]\n",
        "    self.loss=0\n",
        "\n",
        "  @tf.function\n",
        "  def  __call__(self,inp,out):\n",
        "    dec_inp=self.dec_input\n",
        "    #dec_hid=self.dec_hidden\n",
        "    with tf.GradientTape() as tape:\n",
        "      enc_out,dec_hid=enc(inp)\n",
        "      dec_hid=tf.reshape(dec_hid,shape=(self.batch,1,dec_hid.shape[-1]))\n",
        "      for i in range(out.shape[1]):\n",
        "        dec_hid,pred,weights=dec(enc_out,dec_hid,dec_inp)\n",
        "        dec_inp=tf.reshape(out[:,i],shape=(self.batch,1))\n",
        "        dec_hid=tf.reshape(dec_hid,shape=(self.batch,1,dec_hid.shape[-1]))\n",
        "        self.pred_out.append(pred)\n",
        "        self.wghts.append(weights)\n",
        "\n",
        "      ypred=tf.concat(self.pred_out,axis=1)\n",
        "      weight=tf.concat(self.wghts,axis=2)\n",
        "      ls=ls_(out,ypred)\n",
        "\n",
        "    variables = enc.trainable_variables + dec.trainable_variables\n",
        "    gradients = tape.gradient(ls, variables)\n",
        "    optimizer.apply_gradients(zip(gradients, variables))\n",
        "    #self.dec_hidden=dec_hid\n",
        "    return ls,ypred,weight\n",
        "\n",
        "\n",
        "#step=Test_step(30)"
      ],
      "execution_count": null,
      "outputs": []
    },
    {
      "cell_type": "code",
      "metadata": {
        "colab": {
          "base_uri": "https://localhost:8080/"
        },
        "id": "GgIugf-ANrgJ",
        "outputId": "e40724cd-d7d5-4b46-9224-09f78d692e94"
      },
      "source": [
        "# checking if training is actually happening or not\n",
        "'''\n",
        "batch=30\n",
        "initializer=tf.random_normal_initializer(seed=33)\n",
        "dec_hid=tf.Variable(initial_value=initializer(shape=(batch,1,21),dtype=tf.float32))\n",
        "'''\n",
        "\n",
        "# Test 1\n",
        "step=Test_step(30)\n",
        "inp=train_inp[:30]\n",
        "out=train_out[:30]\n",
        "\n",
        "ls,ypred,weights=step(inp,out)\n",
        "print(ls)"
      ],
      "execution_count": null,
      "outputs": [
        {
          "output_type": "stream",
          "text": [
            "tf.Tensor(8.517337, shape=(), dtype=float32)\n"
          ],
          "name": "stdout"
        }
      ]
    },
    {
      "cell_type": "code",
      "metadata": {
        "colab": {
          "base_uri": "https://localhost:8080/"
        },
        "id": "iqdtPv9ON4Fy",
        "outputId": "47ab2aa8-d208-4024-d6c7-0bc0af4c412c"
      },
      "source": [
        "# Test 2\n",
        "inp=train_inp[30:60]\n",
        "out=train_out[30:60]\n",
        "\n",
        "ls,ypred,weights=step(inp,out)\n",
        "print(ls)"
      ],
      "execution_count": null,
      "outputs": [
        {
          "output_type": "stream",
          "text": [
            "tf.Tensor(8.514573, shape=(), dtype=float32)\n"
          ],
          "name": "stdout"
        }
      ]
    },
    {
      "cell_type": "code",
      "metadata": {
        "colab": {
          "base_uri": "https://localhost:8080/"
        },
        "id": "pOxWlswKQAdd",
        "outputId": "dcceb3ab-5502-43da-a783-01345b866870"
      },
      "source": [
        "# Test 3\n",
        "inp=train_inp[60:90]\n",
        "out=train_out[60:90]\n",
        "\n",
        "ls,ypred,weights=step(inp,out)\n",
        "print(ls)"
      ],
      "execution_count": null,
      "outputs": [
        {
          "output_type": "stream",
          "text": [
            "tf.Tensor(8.5121, shape=(), dtype=float32)\n"
          ],
          "name": "stdout"
        }
      ]
    },
    {
      "cell_type": "code",
      "metadata": {
        "id": "GotcUrgmQH0J"
      },
      "source": [
        "class Prediction():\n",
        "  def __init__(self,batch):\n",
        "    self.batch=batch\n",
        "    #initializer=tf.random_normal_initializer(seed=33)\n",
        "    #self.dec_hidden=tf.Variable(initial_value=initializer(shape=(batch,1,21),dtype=tf.float32))\n",
        "    self.dec_input=np.array([5000]*batch).reshape(batch,1)\n",
        "    self.pred_out=[]\n",
        "    self.wghts=[]\n",
        "\n",
        "\n",
        "  @tf.function\n",
        "  def __call__(self,inp):\n",
        "    dec_inp=self.dec_input\n",
        "    #dec_hid=self.dec_hidden\n",
        "    enc_out,dec_hid=enc(inp)\n",
        "    dec_hid=tf.reshape(dec_hid,shape=(self.batch,1,dec_hid.shape[-1]))\n",
        "    for i in range(19):\n",
        "      dec_hid,pred,weights=dec(enc_out,dec_hid,dec_inp)\n",
        "      dec_inp=tf.reshape(tf.math.argmax(pred,axis=2),shape=(self.batch,1))\n",
        "      dec_hid=tf.reshape(dec_hid,shape=(self.batch,1,dec_hid.shape[-1]))\n",
        "      self.pred_out.append(pred)\n",
        "      self.wghts.append(weights)\n",
        "    weight=tf.concat(self.wghts,axis=2)\n",
        "    ypred=tf.concat(self.pred_out,axis=1)\n",
        "    return ypred,weight\n",
        "\n",
        "\n",
        "predict=Prediction(30)"
      ],
      "execution_count": null,
      "outputs": []
    },
    {
      "cell_type": "code",
      "metadata": {
        "colab": {
          "base_uri": "https://localhost:8080/"
        },
        "id": "FRZcqSrGSa6c",
        "outputId": "4ec49e09-40bc-4736-9197-ca6f6718d297"
      },
      "source": [
        "# Testing the predict function\n",
        "\n",
        "# Output shapes should be : weights=(batch,maxlen_inp,maxlen_output)==>(5,15,21)\n",
        "#                           ypred=(batch,21,vocab)==>(5,21,347) \n",
        "\n",
        "inp=train_inp[:30]\n",
        "ypred,weight=predict(inp)\n",
        "assert weight.shape==(inp.shape[0],19,19), 'Somthing went wrong with weights'\n",
        "assert ypred.shape==(inp.shape[0],19,5001) , 'Somthing went wrong with prediction vector'\n",
        "\n",
        "print('looks good')"
      ],
      "execution_count": null,
      "outputs": [
        {
          "output_type": "stream",
          "text": [
            "looks good\n"
          ],
          "name": "stdout"
        }
      ]
    },
    {
      "cell_type": "code",
      "metadata": {
        "colab": {
          "base_uri": "https://localhost:8080/"
        },
        "id": "26ZYjkBGTAAv",
        "outputId": "c093f919-4f0a-49a1-b6bd-fe74e73d6f47"
      },
      "source": [
        "# Lets train the model for 20 epochs\n",
        "import time \n",
        "# Training...\n",
        "batch=64\n",
        "step=Test_step(batch)\n",
        "trn=tf.data.Dataset.from_tensor_slices((train_inp,train_out)).batch(batch,drop_remainder=True)\n",
        "epochs=20\n",
        "print('Training starts ...')\n",
        "for j in range(epochs):\n",
        "  t=time.time()\n",
        "  print('\\n\\n---Epoch {}  :----'.format(j))\n",
        "  a=[]\n",
        "  l=[]\n",
        "  for i,(inp,out) in enumerate(trn):\n",
        "    ls,ypred,weight=step(inp,out)\n",
        "    ypred=tf.math.argmax(ypred,axis=2)\n",
        "    ypred=tf.reshape(ypred,shape=out.shape)\n",
        "    ac=acc(ypred,out)\n",
        "    l.append(ls)\n",
        "    a.append(ac)\n",
        "    if (i+1)%10==0:\n",
        "      #print('At {}th batch    mean_loss={} , mean_accuracy={}'.format(i,np.mean(l),np.mean(a)))\n",
        "      ma=np.mean(a)\n",
        "      ml=np.mean(l)\n",
        "      a=[]\n",
        "      l=[]\n",
        "    if (i+1)%500==0:\n",
        "      print('At {}th batch    mean_loss={} , mean_accuracy={}'.format(i+1,ml,ma))\n",
        "  #ypred,weight=predict(val_input)\n",
        "  #val_loss=loss_(val_output,ypred)*30/val_input.shape[0]\n",
        "  #ypred=tf.math.argmax(ypred,axis=2)\n",
        "  #ypred=tf.reshape(ypred,shape=val_output.shape)\n",
        "  #val_ac=acc(ypred,val_output)\n",
        "  t=time.time()-t\n",
        "  print('\\nTime required for {}th epoch : {}'.format(j+1,t))"
      ],
      "execution_count": null,
      "outputs": [
        {
          "output_type": "stream",
          "text": [
            "Training starts ...\n",
            "\n",
            "\n",
            "---Epoch 0  :----\n",
            "At 500th batch    mean_loss=2.410940647125244 , mean_accuracy=0.4805825650691986\n",
            "At 1000th batch    mean_loss=2.0881245136260986 , mean_accuracy=0.5605556964874268\n",
            "At 1500th batch    mean_loss=1.9652656316757202 , mean_accuracy=0.5981670618057251\n",
            "At 2000th batch    mean_loss=1.7094253301620483 , mean_accuracy=0.6220645308494568\n",
            "\n",
            "Time required for 1th epoch : 1069.749685049057\n",
            "\n",
            "\n",
            "---Epoch 1  :----\n",
            "At 500th batch    mean_loss=1.5149667263031006 , mean_accuracy=0.6441609859466553\n",
            "At 1000th batch    mean_loss=1.4487676620483398 , mean_accuracy=0.6581706404685974\n",
            "At 1500th batch    mean_loss=1.4266791343688965 , mean_accuracy=0.6703713536262512\n",
            "At 2000th batch    mean_loss=1.282401204109192 , mean_accuracy=0.6812239289283752\n",
            "\n",
            "Time required for 2th epoch : 1058.7160897254944\n",
            "\n",
            "\n",
            "---Epoch 2  :----\n",
            "At 500th batch    mean_loss=1.155612826347351 , mean_accuracy=0.6932774186134338\n",
            "At 1000th batch    mean_loss=1.1483254432678223 , mean_accuracy=0.7016021013259888\n",
            "At 1500th batch    mean_loss=1.1569938659667969 , mean_accuracy=0.7091202735900879\n",
            "At 2000th batch    mean_loss=1.076653242111206 , mean_accuracy=0.7159563899040222\n",
            "\n",
            "Time required for 3th epoch : 1046.0107746124268\n",
            "\n",
            "\n",
            "---Epoch 3  :----\n",
            "At 500th batch    mean_loss=0.9844430685043335 , mean_accuracy=0.7237690091133118\n",
            "At 1000th batch    mean_loss=0.993791401386261 , mean_accuracy=0.729328453540802\n",
            "At 1500th batch    mean_loss=1.001672387123108 , mean_accuracy=0.7344238758087158\n",
            "At 2000th batch    mean_loss=0.9512351751327515 , mean_accuracy=0.7391833662986755\n",
            "\n",
            "Time required for 4th epoch : 1047.9207735061646\n",
            "\n",
            "\n",
            "---Epoch 4  :----\n",
            "At 500th batch    mean_loss=0.8781629800796509 , mean_accuracy=0.7447476387023926\n",
            "At 1000th batch    mean_loss=0.8950387239456177 , mean_accuracy=0.7487651109695435\n",
            "At 1500th batch    mean_loss=0.9004374742507935 , mean_accuracy=0.7525330781936646\n",
            "At 2000th batch    mean_loss=0.8806678652763367 , mean_accuracy=0.7560790777206421\n",
            "\n",
            "Time required for 5th epoch : 1052.7968895435333\n",
            "\n",
            "\n",
            "---Epoch 5  :----\n",
            "At 500th batch    mean_loss=0.8155943751335144 , mean_accuracy=0.760314404964447\n",
            "At 1000th batch    mean_loss=0.8250707387924194 , mean_accuracy=0.7634190320968628\n",
            "At 1500th batch    mean_loss=0.8414608240127563 , mean_accuracy=0.7663383483886719\n",
            "At 2000th batch    mean_loss=0.8162132501602173 , mean_accuracy=0.7691515684127808\n",
            "\n",
            "Time required for 6th epoch : 1050.1467139720917\n",
            "\n",
            "\n",
            "---Epoch 6  :----\n",
            "At 500th batch    mean_loss=0.7688702940940857 , mean_accuracy=0.7725034952163696\n",
            "At 1000th batch    mean_loss=0.7722691893577576 , mean_accuracy=0.7749813795089722\n",
            "At 1500th batch    mean_loss=0.7805811166763306 , mean_accuracy=0.777336061000824\n",
            "At 2000th batch    mean_loss=0.7679089903831482 , mean_accuracy=0.7796109914779663\n",
            "\n",
            "Time required for 7th epoch : 1050.393506526947\n",
            "\n",
            "\n",
            "---Epoch 7  :----\n",
            "At 500th batch    mean_loss=0.7237104177474976 , mean_accuracy=0.7823444604873657\n",
            "At 1000th batch    mean_loss=0.7257553339004517 , mean_accuracy=0.7843927145004272\n",
            "At 1500th batch    mean_loss=0.735664427280426 , mean_accuracy=0.786359965801239\n",
            "At 2000th batch    mean_loss=0.710929811000824 , mean_accuracy=0.7882541418075562\n",
            "\n",
            "Time required for 8th epoch : 1055.7438204288483\n",
            "\n",
            "\n",
            "---Epoch 8  :----\n",
            "At 500th batch    mean_loss=0.6904382705688477 , mean_accuracy=0.7905679941177368\n",
            "At 1000th batch    mean_loss=0.6931824088096619 , mean_accuracy=0.7923041582107544\n",
            "At 1500th batch    mean_loss=0.7000124454498291 , mean_accuracy=0.7939763069152832\n",
            "At 2000th batch    mean_loss=0.6735856533050537 , mean_accuracy=0.7956031560897827\n",
            "\n",
            "Time required for 9th epoch : 1060.4467136859894\n",
            "\n",
            "\n",
            "---Epoch 9  :----\n",
            "At 500th batch    mean_loss=0.6697900891304016 , mean_accuracy=0.7975972890853882\n",
            "At 1000th batch    mean_loss=0.6638623476028442 , mean_accuracy=0.7990821599960327\n",
            "At 1500th batch    mean_loss=0.6689112186431885 , mean_accuracy=0.8005345463752747\n",
            "At 2000th batch    mean_loss=0.6397404074668884 , mean_accuracy=0.801949143409729\n",
            "\n",
            "Time required for 10th epoch : 1067.5622007846832\n",
            "\n",
            "\n",
            "---Epoch 10  :----\n",
            "At 500th batch    mean_loss=0.6293606758117676 , mean_accuracy=0.8036929368972778\n",
            "At 1000th batch    mean_loss=0.6449838280677795 , mean_accuracy=0.8049885630607605\n",
            "At 1500th batch    mean_loss=0.6546052694320679 , mean_accuracy=0.8062666058540344\n",
            "At 2000th batch    mean_loss=0.6162317395210266 , mean_accuracy=0.8075173497200012\n",
            "\n",
            "Time required for 11th epoch : 1067.2976372241974\n",
            "\n",
            "\n",
            "---Epoch 11  :----\n",
            "At 500th batch    mean_loss=0.6008312106132507 , mean_accuracy=0.8090405464172363\n",
            "At 1000th batch    mean_loss=0.6338677406311035 , mean_accuracy=0.8101946115493774\n",
            "At 1500th batch    mean_loss=0.6508120894432068 , mean_accuracy=0.8113044500350952\n",
            "At 2000th batch    mean_loss=0.6001764535903931 , mean_accuracy=0.8124106526374817\n",
            "\n",
            "Time required for 12th epoch : 1057.5870592594147\n",
            "\n",
            "\n",
            "---Epoch 12  :----\n",
            "At 500th batch    mean_loss=0.5785719156265259 , mean_accuracy=0.813785195350647\n",
            "At 1000th batch    mean_loss=0.6156129837036133 , mean_accuracy=0.8148301243782043\n",
            "At 1500th batch    mean_loss=0.6213407516479492 , mean_accuracy=0.8158555030822754\n",
            "At 2000th batch    mean_loss=0.5813935399055481 , mean_accuracy=0.8168493509292603\n",
            "\n",
            "Time required for 13th epoch : 1052.1577627658844\n",
            "\n",
            "\n",
            "---Epoch 13  :----\n",
            "At 500th batch    mean_loss=0.5647359490394592 , mean_accuracy=0.8180961608886719\n",
            "At 1000th batch    mean_loss=0.6005503535270691 , mean_accuracy=0.8190488815307617\n",
            "At 1500th batch    mean_loss=0.5838425159454346 , mean_accuracy=0.819968581199646\n",
            "At 2000th batch    mean_loss=0.5601099133491516 , mean_accuracy=0.8208651542663574\n",
            "\n",
            "Time required for 14th epoch : 1050.9745392799377\n",
            "\n",
            "\n",
            "---Epoch 14  :----\n",
            "At 500th batch    mean_loss=0.5604809522628784 , mean_accuracy=0.8219753503799438\n",
            "At 1000th batch    mean_loss=0.5850871801376343 , mean_accuracy=0.8228269815444946\n",
            "At 1500th batch    mean_loss=0.5664879679679871 , mean_accuracy=0.8236529231071472\n",
            "At 2000th batch    mean_loss=0.5498926639556885 , mean_accuracy=0.8244746327400208\n",
            "\n",
            "Time required for 15th epoch : 1053.2316308021545\n",
            "\n",
            "\n",
            "---Epoch 15  :----\n",
            "At 500th batch    mean_loss=0.5365114212036133 , mean_accuracy=0.82550048828125\n",
            "At 1000th batch    mean_loss=0.5671300888061523 , mean_accuracy=0.8262921571731567\n",
            "At 1500th batch    mean_loss=0.5553463697433472 , mean_accuracy=0.8270756602287292\n",
            "At 2000th batch    mean_loss=0.5383170247077942 , mean_accuracy=0.8278394937515259\n",
            "\n",
            "Time required for 16th epoch : 1063.7055377960205\n",
            "\n",
            "\n",
            "---Epoch 16  :----\n",
            "At 500th batch    mean_loss=0.5328602194786072 , mean_accuracy=0.8287705183029175\n",
            "At 1000th batch    mean_loss=0.5420666337013245 , mean_accuracy=0.8294954299926758\n",
            "At 1500th batch    mean_loss=0.5524120330810547 , mean_accuracy=0.8302103877067566\n",
            "At 2000th batch    mean_loss=0.5207346677780151 , mean_accuracy=0.8308790326118469\n",
            "\n",
            "Time required for 17th epoch : 1058.7834360599518\n",
            "\n",
            "\n",
            "---Epoch 17  :----\n",
            "At 500th batch    mean_loss=0.5338252186775208 , mean_accuracy=0.831738293170929\n",
            "At 1000th batch    mean_loss=0.5403380393981934 , mean_accuracy=0.8324082493782043\n",
            "At 1500th batch    mean_loss=0.5373402833938599 , mean_accuracy=0.8330554962158203\n",
            "At 2000th batch    mean_loss=0.5153573155403137 , mean_accuracy=0.8336939811706543\n",
            "\n",
            "Time required for 18th epoch : 1061.1965169906616\n",
            "\n",
            "\n",
            "---Epoch 18  :----\n",
            "At 500th batch    mean_loss=0.5249522924423218 , mean_accuracy=0.8345004320144653\n",
            "At 1000th batch    mean_loss=0.5301109552383423 , mean_accuracy=0.835119903087616\n",
            "At 1500th batch    mean_loss=0.5280630588531494 , mean_accuracy=0.8357140421867371\n",
            "At 2000th batch    mean_loss=0.5167112946510315 , mean_accuracy=0.8363149762153625\n",
            "\n",
            "Time required for 19th epoch : 1060.7092516422272\n",
            "\n",
            "\n",
            "---Epoch 19  :----\n",
            "At 500th batch    mean_loss=0.49558496475219727 , mean_accuracy=0.8370648622512817\n",
            "At 1000th batch    mean_loss=0.5137473344802856 , mean_accuracy=0.8376461863517761\n",
            "At 1500th batch    mean_loss=0.5201141238212585 , mean_accuracy=0.8382226824760437\n",
            "At 2000th batch    mean_loss=0.5077170729637146 , mean_accuracy=0.8387830853462219\n",
            "\n",
            "Time required for 20th epoch : 1060.4409952163696\n"
          ],
          "name": "stdout"
        }
      ]
    },
    {
      "cell_type": "code",
      "metadata": {
        "colab": {
          "base_uri": "https://localhost:8080/",
          "height": 595
        },
        "id": "jPqvqkWhTDGm",
        "outputId": "b663a9fa-df82-4387-c1fe-0f345a7baa29"
      },
      "source": [
        "inp=train_inp[2001].reshape((1,19))\n",
        "out=train_out[2001]\n",
        "\n",
        "p=Prediction(1)\n",
        "\n",
        "ypred,weight=p(inp)\n",
        "weight=tf.reshape(weight,shape=(19,19))\n",
        "fig = plt.figure(figsize=(10,10))\n",
        "ax = fig.add_subplot(1, 1, 1)\n",
        "ax.matshow(weight, cmap='viridis')\n",
        "plt.show()"
      ],
      "execution_count": null,
      "outputs": [
        {
          "output_type": "display_data",
          "data": {
            "image/png": "[encoded data removed]",
            "text/plain": [
              "<Figure size 720x720 with 1 Axes>"
            ]
          },
          "metadata": {
            "tags": [],
            "needs_background": "light"
          }
        }
      ]
    },
    {
      "cell_type": "code",
      "metadata": {
        "colab": {
          "base_uri": "https://localhost:8080/"
        },
        "id": "9TUS2gaZj4B0",
        "outputId": "544d6b9b-1ccc-4303-e0db-e1842ae5bced"
      },
      "source": [
        "import random\n",
        "for k in range(10):\n",
        "  p=random.randint(10,2500)\n",
        "  inp=train_inp[p].reshape((1,19))\n",
        "  out=train_out[p]\n",
        "\n",
        "  p=Prediction(1)\n",
        "\n",
        "  ypred,weight=p(inp)\n",
        "\n",
        "  ypr=tf.math.argmax(ypred,axis=2)\n",
        "  print([en_itow[i] for i in inp.reshape((19))])\n",
        "  print([hn_itow[i] for i in out])\n",
        "  print([hn_itow[i] for i in ypr.numpy().reshape((19))])"
      ],
      "execution_count": null,
      "outputs": [
        {
          "output_type": "stream",
          "text": [
            "['there', 'is', 'one', 'museum', 'of', 'thing', 'which', 'is', 'related', 'to', 'him', '<pad>', '<pad>', '<pad>', '<pad>', '<pad>', '<pad>', '<pad>', '<pad>']\n",
            "['यहाँ', 'उनसे', 'संबंधित', 'वस्तुओं', 'का', 'एक', 'संग्रहालय', 'भी', 'है।', '<pad>', '<pad>', '<pad>', '<pad>', '<pad>', '<pad>', '<pad>', '<pad>', '<pad>', '<pad>']\n",
            "['वे', 'जो', 'एक', 'संग्रहालय', 'का', 'विषय', 'है।', '<pad>', '<pad>', '<pad>', '<pad>', '<pad>', '<pad>', '<pad>', '<pad>', '<pad>', '<pad>', '<pad>', '<pad>']\n",
            "['to', 'promote', 'entrepreneurship', 'in', 'the', 'area', 'of', 'environmental', 'goods', 'and', 'services', '<pad>', '<pad>', '<pad>', '<pad>', '<pad>', '<pad>', '<pad>', '<pad>']\n",
            "['पर्यावरणीय', 'सामग्री', 'तथा', 'सेवाओं', 'के', 'क्षेत्र', 'में', 'उद्यमिता', 'को', 'बढ़ावा', 'देना।', '<pad>', '<pad>', '<pad>', '<pad>', '<pad>', '<pad>', '<pad>', '<pad>']\n",
            "['पर्यावरणीय', 'सामग्री', 'और', 'सेवाओं', 'के', 'क्षेत्र', 'में', 'प्रशिक्षण', 'देना', '<pad>', '<pad>', '<pad>', '<pad>', '<pad>', '<pad>', '<pad>', '<pad>', '<pad>', '<pad>']\n",
            "WARNING:tensorflow:5 out of the last 6 calls to <function Prediction.__call__ at 0x7f9cab8e2d90> triggered tf.function retracing. Tracing is expensive and the excessive number of tracings could be due to (1) creating @tf.function repeatedly in a loop, (2) passing tensors with different shapes, (3) passing Python objects instead of tensors. For (1), please define your @tf.function outside of the loop. For (2), @tf.function has experimental_relax_shapes=True option that relaxes argument shapes that can avoid unnecessary retracing. For (3), please refer to https://www.tensorflow.org/guide/function#controlling_retracing and https://www.tensorflow.org/api_docs/python/tf/function for  more details.\n",
            "['oral', 'consent', 'is', 'as', 'good', 'as', 'written', 'if', 'proved', '<pad>', '<pad>', '<pad>', '<pad>', '<pad>', '<pad>', '<pad>', '<pad>', '<pad>', '<pad>']\n",
            "['मौखिक', 'स्वीकृति', 'भी', 'लिखित', 'के', 'समान', 'प्रभाव', 'वाली', 'होती', 'है', 'यदि', 'सिद्ध', 'कर', 'दी', 'जाए।', '<pad>', '<pad>', '<pad>', '<pad>']\n",
            "['मौखिक', 'या', 'स्वीकार', 'कर', 'दिया', 'है', 'अगर', 'वह', 'ही', 'साबित', 'होती', 'है।', '<pad>', '<pad>', '<pad>', '<pad>', '<pad>', '<pad>', '<pad>']\n",
            "WARNING:tensorflow:6 out of the last 7 calls to <function Prediction.__call__ at 0x7f9cbae5d9d8> triggered tf.function retracing. Tracing is expensive and the excessive number of tracings could be due to (1) creating @tf.function repeatedly in a loop, (2) passing tensors with different shapes, (3) passing Python objects instead of tensors. For (1), please define your @tf.function outside of the loop. For (2), @tf.function has experimental_relax_shapes=True option that relaxes argument shapes that can avoid unnecessary retracing. For (3), please refer to https://www.tensorflow.org/guide/function#controlling_retracing and https://www.tensorflow.org/api_docs/python/tf/function for  more details.\n",
            "['y', 'equals', 'negative', 'three', '<pad>', '<pad>', '<pad>', '<pad>', '<pad>', '<pad>', '<pad>', '<pad>', '<pad>', '<pad>', '<pad>', '<pad>', '<pad>', '<pad>', '<pad>']\n",
            "['y', 'नकारात्मक', 'तीन', 'बराबर', 'होती', 'है।', '<pad>', '<pad>', '<pad>', '<pad>', '<pad>', '<pad>', '<pad>', '<pad>', '<pad>', '<pad>', '<pad>', '<pad>', '<pad>']\n",
            "['y', 'नकारात्मक', 'तीन', 'बराबर', 'होती', 'है।', '<pad>', '<pad>', '<pad>', '<pad>', '<pad>', '<pad>', '<pad>', '<pad>', '<pad>', '<pad>', '<pad>', '<pad>', '<pad>']\n",
            "WARNING:tensorflow:7 out of the last 8 calls to <function Prediction.__call__ at 0x7f9cbae5d9d8> triggered tf.function retracing. Tracing is expensive and the excessive number of tracings could be due to (1) creating @tf.function repeatedly in a loop, (2) passing tensors with different shapes, (3) passing Python objects instead of tensors. For (1), please define your @tf.function outside of the loop. For (2), @tf.function has experimental_relax_shapes=True option that relaxes argument shapes that can avoid unnecessary retracing. For (3), please refer to https://www.tensorflow.org/guide/function#controlling_retracing and https://www.tensorflow.org/api_docs/python/tf/function for  more details.\n",
            "['heart', 'has', 'its', 'won', 'current', '<pad>', '<pad>', '<pad>', '<pad>', '<pad>', '<pad>', '<pad>', '<pad>', '<pad>', '<pad>', '<pad>', '<pad>', '<pad>', '<pad>']\n",
            "['हृदय', 'में', 'इसका', 'स्वयं', 'का', 'प्रवाह', 'होता', 'है', '<pad>', '<pad>', '<pad>', '<pad>', '<pad>', '<pad>', '<pad>', '<pad>', '<pad>', '<pad>', '<pad>']\n",
            "['हृदय', 'में', 'इसका', 'एक', 'ही', 'है।', '<pad>', '<pad>', '<pad>', '<pad>', '<pad>', '<pad>', '<pad>', '<pad>', '<pad>', '<pad>', '<pad>', '<pad>', '<pad>']\n",
            "WARNING:tensorflow:8 out of the last 9 calls to <function Prediction.__call__ at 0x7f9cb8296a60> triggered tf.function retracing. Tracing is expensive and the excessive number of tracings could be due to (1) creating @tf.function repeatedly in a loop, (2) passing tensors with different shapes, (3) passing Python objects instead of tensors. For (1), please define your @tf.function outside of the loop. For (2), @tf.function has experimental_relax_shapes=True option that relaxes argument shapes that can avoid unnecessary retracing. For (3), please refer to https://www.tensorflow.org/guide/function#controlling_retracing and https://www.tensorflow.org/api_docs/python/tf/function for  more details.\n",
            "['we', 'cannot', 'afford', 'to', 'fail', 'in', 'this', '<pad>', '<pad>', '<pad>', '<pad>', '<pad>', '<pad>', '<pad>', '<pad>', '<pad>', '<pad>', '<pad>', '<pad>']\n",
            "['इस', 'दिशा', 'में', 'असफलता', 'हमारे', 'लिए', 'घातक', 'होगी।', '<pad>', '<pad>', '<pad>', '<pad>', '<pad>', '<pad>', '<pad>', '<pad>', '<pad>', '<pad>', '<pad>']\n",
            "['इस', 'कारण', 'को', 'मिटाने', 'में', 'विफल', '<pad>', '<pad>', '<pad>', '<pad>', '<pad>', '<pad>', '<pad>', '<pad>', '<pad>', '<pad>', '<pad>', '<pad>', '<pad>']\n",
            "WARNING:tensorflow:9 out of the last 10 calls to <function Prediction.__call__ at 0x7f9ca79aa2f0> triggered tf.function retracing. Tracing is expensive and the excessive number of tracings could be due to (1) creating @tf.function repeatedly in a loop, (2) passing tensors with different shapes, (3) passing Python objects instead of tensors. For (1), please define your @tf.function outside of the loop. For (2), @tf.function has experimental_relax_shapes=True option that relaxes argument shapes that can avoid unnecessary retracing. For (3), please refer to https://www.tensorflow.org/guide/function#controlling_retracing and https://www.tensorflow.org/api_docs/python/tf/function for  more details.\n",
            "['the', 'management', 'expenses', 'are', 'to', 'be', 'kept', 'under', 'check', '<pad>', '<pad>', '<pad>', '<pad>', '<pad>', '<pad>', '<pad>', '<pad>', '<pad>', '<pad>']\n",
            "['प्रबन्ध', 'लागत', 'को', 'नियन्त्रण', 'में', 'रखा', 'जाना', 'होगा।', '<pad>', '<pad>', '<pad>', '<pad>', '<pad>', '<pad>', '<pad>', '<pad>', '<pad>', '<pad>', '<pad>']\n",
            "['प्रबंधन', 'खर्च', 'की', 'गई', 'सुरक्षा', 'सुविधाएं', 'दिया', 'गया', 'हो।', '<pad>', '<pad>', '<pad>', '<pad>', '<pad>', '<pad>', '<pad>', '<pad>', '<pad>', '<pad>']\n",
            "WARNING:tensorflow:10 out of the last 11 calls to <function Prediction.__call__ at 0x7f9cc22ecc80> triggered tf.function retracing. Tracing is expensive and the excessive number of tracings could be due to (1) creating @tf.function repeatedly in a loop, (2) passing tensors with different shapes, (3) passing Python objects instead of tensors. For (1), please define your @tf.function outside of the loop. For (2), @tf.function has experimental_relax_shapes=True option that relaxes argument shapes that can avoid unnecessary retracing. For (3), please refer to https://www.tensorflow.org/guide/function#controlling_retracing and https://www.tensorflow.org/api_docs/python/tf/function for  more details.\n",
            "['click', 'here', 'to', 'attach', 'a', 'file', '<pad>', '<pad>', '<pad>', '<pad>', '<pad>', '<pad>', '<pad>', '<pad>', '<pad>', '<pad>', '<pad>', '<pad>', '<pad>']\n",
            "['फ़ाइल', 'जोड़ने', 'के', 'लिए', 'यहाँ', 'क्लिक', 'करें', '<pad>', '<pad>', '<pad>', '<pad>', '<pad>', '<pad>', '<pad>', '<pad>', '<pad>', '<pad>', '<pad>', '<pad>']\n",
            "['फ़ाइल', 'जोड़ने', 'के', 'लिए', 'यहाँ', 'क्लिक', 'करें', '<pad>', '<pad>', '<pad>', '<pad>', '<pad>', '<pad>', '<pad>', '<pad>', '<pad>', '<pad>', '<pad>', '<pad>']\n",
            "WARNING:tensorflow:11 out of the last 12 calls to <function Prediction.__call__ at 0x7f9cbae5d9d8> triggered tf.function retracing. Tracing is expensive and the excessive number of tracings could be due to (1) creating @tf.function repeatedly in a loop, (2) passing tensors with different shapes, (3) passing Python objects instead of tensors. For (1), please define your @tf.function outside of the loop. For (2), @tf.function has experimental_relax_shapes=True option that relaxes argument shapes that can avoid unnecessary retracing. For (3), please refer to https://www.tensorflow.org/guide/function#controlling_retracing and https://www.tensorflow.org/api_docs/python/tf/function for  more details.\n",
            "['c', 'source', 'file', '<pad>', '<pad>', '<pad>', '<pad>', '<pad>', '<pad>', '<pad>', '<pad>', '<pad>', '<pad>', '<pad>', '<pad>', '<pad>', '<pad>', '<pad>', '<pad>']\n",
            "['c', 'स्रोत', 'फ़ाइल', '<pad>', '<pad>', '<pad>', '<pad>', '<pad>', '<pad>', '<pad>', '<pad>', '<pad>', '<pad>', '<pad>', '<pad>', '<pad>', '<pad>', '<pad>', '<pad>']\n",
            "['c', 'स्रोत', 'फ़ाइल', '<pad>', '<pad>', '<pad>', '<pad>', '<pad>', '<pad>', '<pad>', '<pad>', '<pad>', '<pad>', '<pad>', '<pad>', '<pad>', '<pad>', '<pad>', '<pad>']\n",
            "WARNING:tensorflow:11 out of the last 11 calls to <function Prediction.__call__ at 0x7f9ca79aa2f0> triggered tf.function retracing. Tracing is expensive and the excessive number of tracings could be due to (1) creating @tf.function repeatedly in a loop, (2) passing tensors with different shapes, (3) passing Python objects instead of tensors. For (1), please define your @tf.function outside of the loop. For (2), @tf.function has experimental_relax_shapes=True option that relaxes argument shapes that can avoid unnecessary retracing. For (3), please refer to https://www.tensorflow.org/guide/function#controlling_retracing and https://www.tensorflow.org/api_docs/python/tf/function for  more details.\n",
            "['the', 'credit', 'is', 'normally', 'provided', 'for', 'a', 'period', 'of', '3', 'to', '15', 'years', '<pad>', '<pad>', '<pad>', '<pad>', '<pad>', '<pad>']\n",
            "['ऋण', 'सामान्यतः', '3', 'से', '15', 'वर्षों', 'के', 'लिए', 'दिया', 'जाता', 'है', '<pad>', '<pad>', '<pad>', '<pad>', '<pad>', '<pad>', '<pad>', '<pad>']\n",
            "['ऋण', 'सामान्यतः', '3', 'के', '15', 'वर्ष', 'के', 'लिए', 'प्रदान', 'की', 'है।', '<pad>', '<pad>', '<pad>', '<pad>', '<pad>', '<pad>', '<pad>', '<pad>']\n"
          ],
          "name": "stdout"
        }
      ]
    },
    {
      "cell_type": "code",
      "metadata": {
        "id": "VepE83Ypq8NG"
      },
      "source": [
        ""
      ],
      "execution_count": null,
      "outputs": []
    }
  ]
}